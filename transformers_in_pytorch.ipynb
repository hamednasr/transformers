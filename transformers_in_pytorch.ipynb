{
  "nbformat": 4,
  "nbformat_minor": 0,
  "metadata": {
    "colab": {
      "provenance": [],
      "authorship_tag": "ABX9TyN2uSF7kXGmD/fpZEc7TMpg",
      "include_colab_link": true
    },
    "kernelspec": {
      "name": "python3",
      "display_name": "Python 3"
    },
    "language_info": {
      "name": "python"
    }
  },
  "cells": [
    {
      "cell_type": "markdown",
      "metadata": {
        "id": "view-in-github",
        "colab_type": "text"
      },
      "source": [
        "<a href=\"https://colab.research.google.com/github/hamednasr/transformers/blob/main/transformers_in_pytorch.ipynb\" target=\"_parent\"><img src=\"https://colab.research.google.com/assets/colab-badge.svg\" alt=\"Open In Colab\"/></a>"
      ]
    },
    {
      "cell_type": "code",
      "execution_count": 2,
      "metadata": {
        "id": "b3NRnk-_JOMF"
      },
      "outputs": [],
      "source": [
        "import math\n",
        "import torch\n",
        "import torch.nn as nn\n",
        "import torch.nn.functional as F\n",
        "from torch.utils.data import dataset\n",
        "import numpy as np\n",
        "import matplotlib.pyplot as plt"
      ]
    },
    {
      "cell_type": "code",
      "source": [
        "F.softmax(torch.tensor([.9,0.05,0.05]), dim=-1)"
      ],
      "metadata": {
        "colab": {
          "base_uri": "https://localhost:8080/"
        },
        "id": "yN3Cd1KjOdQH",
        "outputId": "06dc7bc8-3c32-4381-93d3-fa5fe158ea3f"
      },
      "execution_count": 12,
      "outputs": [
        {
          "output_type": "execute_result",
          "data": {
            "text/plain": [
              "tensor([0.5391, 0.2304, 0.2304])"
            ]
          },
          "metadata": {},
          "execution_count": 12
        }
      ]
    },
    {
      "cell_type": "code",
      "source": [
        "class MultiHeadAttention(nn.Module):\n",
        "  def __init__(self, d_k, d_v, d_model, n_heads):\n",
        "    super().__init__()\n",
        "\n",
        "    self.d_k = d_k\n",
        "    self.d_v = d_v\n",
        "    self.n_heads = n_heads\n",
        "\n",
        "    self.W_q = nn.Linear(d_model,d_k*n_heads)\n",
        "    self.W_k = nn.Linear(d_model,d_k*n_heads)\n",
        "    self.W_v = nn.Linear(d_model,d_v*n_heads)\n",
        "    self.fc = nn.Linear(d_v*n_heads, d_model)\n",
        "\n",
        "  def forward(self, X, mask=None): # X could be q,k,v that are different\n",
        "    Q = self.W_q(X)  # N × T × h*d_k\n",
        "    K = self.W_k(X)  # N × T × h*d_k\n",
        "    V = self.W_v(X)  # N × T × h*d_v\n",
        "\n",
        "    N = Q.shape[0]\n",
        "    T = Q.shape[1]\n",
        "\n",
        "    Q = Q.view(N, T, self.n_heads, self.d_k).transpose(1,2) # N × T × h*d_k -->> N × h × T × d_k\n",
        "    K = K.view(N, T, self.n_heads, self.d_k).transpose(1,2) # N × T × h*d_k -->> N × h × T × d_k\n",
        "    V = V.view(N, T, self.n_heads, self.d_k).transpose(1,2) # N × T × h*d_k -->> N × h × T × d_k\n",
        "\n",
        "    AttentionScores = Q @ K.transpose(2,3)/torch.sqrt(self.d_k) #  N × h × T × T\n",
        "\n",
        "    if ~mask:\n",
        "      mask= torch.unsqueeze(mask, 1)\n",
        "      mask= torch.unsqueeze(mask, 1)\n",
        "      AttentionScores = AttentionScores.masked_fill(mask == 0, float('-inf'))\n",
        "\n",
        "    AttentionWeights = F.softmax(AttentionScores, dim=-1) #  N × h × T × T\n",
        "\n",
        "    A = AttentionWeights @ V #  N × h × T × d_v\n",
        "    A = A.transpose(1,2).view(N, T, self.n_heads*self.d_v ) #  N × T × h*d_v\n",
        "\n",
        "    return self.fc(A)\n"
      ],
      "metadata": {
        "id": "ct1twvvhJuoQ"
      },
      "execution_count": null,
      "outputs": []
    },
    {
      "cell_type": "code",
      "source": [],
      "metadata": {
        "id": "eaE3-iWB9RBG"
      },
      "execution_count": null,
      "outputs": []
    },
    {
      "cell_type": "code",
      "source": [
        "x = torch.tensor([[3., 4.],[1.,6.]])\n",
        "print(x.shape)\n",
        "x =torch.unsqueeze(x, 1)\n",
        "print(x.shape)\n",
        "x= torch.unsqueeze(x, 1)\n",
        "x.shape"
      ],
      "metadata": {
        "colab": {
          "base_uri": "https://localhost:8080/"
        },
        "id": "ybjTQS6S7H47",
        "outputId": "ea418ab2-f4ad-4fa9-8b5a-da519a7624cf"
      },
      "execution_count": 70,
      "outputs": [
        {
          "output_type": "stream",
          "name": "stdout",
          "text": [
            "torch.Size([2, 2])\n",
            "torch.Size([2, 1, 2])\n"
          ]
        },
        {
          "output_type": "execute_result",
          "data": {
            "text/plain": [
              "torch.Size([2, 1, 1, 2])"
            ]
          },
          "metadata": {},
          "execution_count": 70
        }
      ]
    },
    {
      "cell_type": "code",
      "source": [
        "F.softmax(x, dim=-1)"
      ],
      "metadata": {
        "colab": {
          "base_uri": "https://localhost:8080/"
        },
        "id": "OnstMBV99Tb1",
        "outputId": "c57e39fa-8f1d-40de-898f-63ff71d53ab2"
      },
      "execution_count": 74,
      "outputs": [
        {
          "output_type": "execute_result",
          "data": {
            "text/plain": [
              "tensor([[[[0.2689, 0.7311]]],\n",
              "\n",
              "\n",
              "        [[[0.0067, 0.9933]]]])"
            ]
          },
          "metadata": {},
          "execution_count": 74
        }
      ]
    },
    {
      "cell_type": "code",
      "source": [
        "a= torch.rand(2,5,3,4)\n",
        "b= torch.rand(2,5,4,3)\n",
        "a.shape"
      ],
      "metadata": {
        "colab": {
          "base_uri": "https://localhost:8080/"
        },
        "id": "-DUwJHTLjkkB",
        "outputId": "1ff3ee93-e6c3-4cc5-bf17-2ba41719db16"
      },
      "execution_count": 54,
      "outputs": [
        {
          "output_type": "execute_result",
          "data": {
            "text/plain": [
              "torch.Size([2, 5, 3, 4])"
            ]
          },
          "metadata": {},
          "execution_count": 54
        }
      ]
    },
    {
      "cell_type": "code",
      "source": [
        "a.view(2,5,4,3).shape"
      ],
      "metadata": {
        "colab": {
          "base_uri": "https://localhost:8080/"
        },
        "id": "x3UGygyq2gGC",
        "outputId": "8e38bf68-7a05-4b6d-a4ef-a5796b4bc09e"
      },
      "execution_count": 56,
      "outputs": [
        {
          "output_type": "execute_result",
          "data": {
            "text/plain": [
              "torch.Size([2, 5, 4, 3])"
            ]
          },
          "metadata": {},
          "execution_count": 56
        }
      ]
    },
    {
      "cell_type": "code",
      "source": [
        "a@b"
      ],
      "metadata": {
        "colab": {
          "base_uri": "https://localhost:8080/"
        },
        "id": "p-vDoWTbzKNn",
        "outputId": "854a31ea-8943-4864-fe58-0fabeea0db96"
      },
      "execution_count": 52,
      "outputs": [
        {
          "output_type": "execute_result",
          "data": {
            "text/plain": [
              "tensor([[[[0.9868, 1.1049, 1.2843],\n",
              "          [1.2438, 0.9676, 0.9669],\n",
              "          [0.3115, 0.1481, 0.3951]],\n",
              "\n",
              "         [[1.3265, 0.6358, 1.6556],\n",
              "          [0.4531, 0.6239, 0.8036],\n",
              "          [1.5561, 0.8614, 2.1342]],\n",
              "\n",
              "         [[0.5977, 0.6377, 1.1061],\n",
              "          [0.8970, 0.9109, 1.5910],\n",
              "          [0.4210, 0.5384, 0.3385]],\n",
              "\n",
              "         [[1.7268, 1.1087, 1.2237],\n",
              "          [1.7726, 0.6309, 0.9878],\n",
              "          [1.6617, 0.6330, 0.8079]],\n",
              "\n",
              "         [[1.3154, 1.7169, 0.5657],\n",
              "          [0.6774, 1.0459, 0.6286],\n",
              "          [1.3178, 1.1842, 0.2263]]],\n",
              "\n",
              "\n",
              "        [[[2.0023, 0.5348, 1.9632],\n",
              "          [2.0712, 0.9349, 1.8422],\n",
              "          [1.1662, 0.7024, 1.1342]],\n",
              "\n",
              "         [[0.8181, 1.1855, 1.2031],\n",
              "          [1.0903, 1.5603, 1.6206],\n",
              "          [1.2615, 1.2045, 1.0205]],\n",
              "\n",
              "         [[0.9675, 1.2135, 1.5604],\n",
              "          [0.9938, 1.1461, 0.9769],\n",
              "          [1.0019, 0.8673, 1.4044]],\n",
              "\n",
              "         [[0.7846, 1.6117, 0.9175],\n",
              "          [0.5791, 1.0150, 0.6483],\n",
              "          [0.5590, 1.0311, 0.5906]],\n",
              "\n",
              "         [[0.7235, 1.2810, 0.7727],\n",
              "          [0.3909, 0.8516, 0.6313],\n",
              "          [0.7229, 0.4957, 0.3420]]]])"
            ]
          },
          "metadata": {},
          "execution_count": 52
        }
      ]
    },
    {
      "cell_type": "code",
      "source": [
        "(a@b).shape"
      ],
      "metadata": {
        "colab": {
          "base_uri": "https://localhost:8080/"
        },
        "id": "TvP4u0ssjlwS",
        "outputId": "7bf05507-3118-417a-edfd-9e23ae26f24d"
      },
      "execution_count": 51,
      "outputs": [
        {
          "output_type": "execute_result",
          "data": {
            "text/plain": [
              "torch.Size([2, 5, 3, 3])"
            ]
          },
          "metadata": {},
          "execution_count": 51
        }
      ]
    },
    {
      "cell_type": "code",
      "source": [],
      "metadata": {
        "id": "L2444xOtxyDe"
      },
      "execution_count": null,
      "outputs": []
    }
  ]
}