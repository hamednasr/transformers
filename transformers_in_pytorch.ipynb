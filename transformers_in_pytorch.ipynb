{
  "nbformat": 4,
  "nbformat_minor": 0,
  "metadata": {
    "colab": {
      "provenance": [],
      "authorship_tag": "ABX9TyMGgNb/gnVVjXTIF2tpOG69",
      "include_colab_link": true
    },
    "kernelspec": {
      "name": "python3",
      "display_name": "Python 3"
    },
    "language_info": {
      "name": "python"
    }
  },
  "cells": [
    {
      "cell_type": "markdown",
      "metadata": {
        "id": "view-in-github",
        "colab_type": "text"
      },
      "source": [
        "<a href=\"https://colab.research.google.com/github/hamednasr/transformers/blob/main/transformers_in_pytorch.ipynb\" target=\"_parent\"><img src=\"https://colab.research.google.com/assets/colab-badge.svg\" alt=\"Open In Colab\"/></a>"
      ]
    },
    {
      "cell_type": "code",
      "execution_count": 1,
      "metadata": {
        "id": "b3NRnk-_JOMF"
      },
      "outputs": [],
      "source": [
        "import math\n",
        "import torch\n",
        "import torch.nn as nn\n",
        "import torch.nn.functional as F\n",
        "from torch.utils.data import dataset\n",
        "import numpy as np\n",
        "import matplotlib.pyplot as plt"
      ]
    },
    {
      "cell_type": "code",
      "source": [
        "F.softmax(torch.tensor([.9,0.05,0.05]), dim=-1)"
      ],
      "metadata": {
        "colab": {
          "base_uri": "https://localhost:8080/"
        },
        "id": "yN3Cd1KjOdQH",
        "outputId": "5e3dca45-9157-410a-e0b6-408f98b4e5fa"
      },
      "execution_count": 2,
      "outputs": [
        {
          "output_type": "execute_result",
          "data": {
            "text/plain": [
              "tensor([0.5391, 0.2304, 0.2304])"
            ]
          },
          "metadata": {},
          "execution_count": 2
        }
      ]
    },
    {
      "cell_type": "code",
      "source": [
        "class MultiHeadAttention(nn.Module):\n",
        "  def __init__(self, d_k, d_v, d_model, n_heads):\n",
        "    super().__init__()\n",
        "\n",
        "    self.d_k = d_k\n",
        "    self.d_v = d_v\n",
        "    self.n_heads = n_heads\n",
        "\n",
        "    self.W_q = nn.Linear(d_model,d_k*n_heads)\n",
        "    self.W_k = nn.Linear(d_model,d_k*n_heads)\n",
        "    self.W_v = nn.Linear(d_model,d_v*n_heads)\n",
        "    self.fc = nn.Linear(d_v*n_heads, d_model)\n",
        "\n",
        "  def forward(self, X, mask=None): # X could be q,k,v that are different\n",
        "    Q = self.W_q(X)  # N × T × h*d_k\n",
        "    K = self.W_k(X)  # N × T × h*d_k\n",
        "    V = self.W_v(X)  # N × T × h*d_v\n",
        "\n",
        "    N = Q.shape[0]\n",
        "    T = Q.shape[1]\n",
        "\n",
        "    Q = Q.view(N, T, self.n_heads, self.d_k).transpose(1,2) # N × T × h*d_k -->> N × h × T × d_k\n",
        "    K = K.view(N, T, self.n_heads, self.d_k).transpose(1,2) # N × T × h*d_k -->> N × h × T × d_k\n",
        "    V = V.view(N, T, self.n_heads, self.d_k).transpose(1,2) # N × T × h*d_k -->> N × h × T × d_k\n",
        "\n",
        "    AttentionScores = Q @ K.transpose(2,3)/torch.sqrt(self.d_k) #  N × h × T × T\n",
        "\n",
        "    if ~mask:\n",
        "      mask= torch.unsqueeze(mask, 1)\n",
        "      mask= torch.unsqueeze(mask, 1)\n",
        "      AttentionScores = AttentionScores.masked_fill(mask == 0, float('-inf'))\n",
        "\n",
        "    AttentionWeights = F.softmax(AttentionScores, dim=-1) #  N × h × T × T\n",
        "\n",
        "    A = AttentionWeights @ V #  N × h × T × d_v\n",
        "    A = A.transpose(1,2).view(N, T, self.n_heads*self.d_v ) #  N × T × h*d_v\n",
        "\n",
        "    return self.fc(A)\n"
      ],
      "metadata": {
        "id": "ct1twvvhJuoQ"
      },
      "execution_count": 3,
      "outputs": []
    },
    {
      "cell_type": "code",
      "source": [
        "class TransformerBlock(nn.Module):\n",
        "  def __init__(self, d_k, d_v, d_model, n_heads, dropout_prob=0.2):\n",
        "    super().__init__()\n",
        "\n",
        "    self.ln1 = nn.LayerNorm(d_model)\n",
        "    self.ln2 = nn.LayerNorm(d_model)\n",
        "    self.mha = MultiHeadAttention(d_k, d_v, d_model, n_heads)\n",
        "    self.ann = nn.Sequential(\n",
        "        nn.LayerNorm(d_model, d_model*3),\n",
        "        nn.GELU(),\n",
        "        nn.LayerNorm(d_model*3, d_model),\n",
        "        nn.Dropout(dropout_prob)\n",
        "    )\n",
        "    self.dropout = nn.Dropout(dropout_prob)\n",
        "\n",
        "  def forward(self, x, mask= None):\n",
        "    x = self.ln1(x + self.mha(x, x, x, mask))\n",
        "    x = self.ln2(x + self.ann(x))\n",
        "    x = self.dropout(x)\n",
        "    return x"
      ],
      "metadata": {
        "id": "0vl3IgkYBxid"
      },
      "execution_count": 5,
      "outputs": []
    },
    {
      "cell_type": "code",
      "source": [
        "class PositionalEncoding(nn.Module):\n",
        "  def __init__(self, d_model, max_len = 2048, dropout_prob=0.2):\n",
        "    super().__init__()\n",
        "    self.dropout = nn.Dropout(dropout_prob)\n",
        "\n",
        "    position = torch.arange(max_len).unsqueeze(1)\n",
        "    exp_term = torch.arange(0, d_model, 2)\n",
        "    div_term = torch.exp(exp_term * (-math.log(10000.0) / d_model))\n",
        "    pe = torch.zeros(1, max_len, d_model)\n",
        "    pe[0, :, 0::2] = torch.sin(position * div_term)\n",
        "    pe[0, :, 1::2] = torch.cos(position * div_term)\n",
        "    self.register_buffer('pe',pe)\n",
        "\n",
        "  def forward(self, x):\n",
        "    x = x+self.pe[:, :x.size(1), :]\n",
        "    return self.dropout(x)"
      ],
      "metadata": {
        "id": "tru3IEPiBxf7"
      },
      "execution_count": 12,
      "outputs": []
    },
    {
      "cell_type": "code",
      "source": [],
      "metadata": {
        "id": "L2444xOtxyDe"
      },
      "execution_count": null,
      "outputs": []
    }
  ]
}