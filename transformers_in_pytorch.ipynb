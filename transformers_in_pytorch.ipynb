{
  "nbformat": 4,
  "nbformat_minor": 0,
  "metadata": {
    "colab": {
      "provenance": [],
      "authorship_tag": "ABX9TyM4ZEUQ/vgpDKOLdh2IXME3",
      "include_colab_link": true
    },
    "kernelspec": {
      "name": "python3",
      "display_name": "Python 3"
    },
    "language_info": {
      "name": "python"
    }
  },
  "cells": [
    {
      "cell_type": "markdown",
      "metadata": {
        "id": "view-in-github",
        "colab_type": "text"
      },
      "source": [
        "<a href=\"https://colab.research.google.com/github/hamednasr/transformers/blob/main/transformers_in_pytorch.ipynb\" target=\"_parent\"><img src=\"https://colab.research.google.com/assets/colab-badge.svg\" alt=\"Open In Colab\"/></a>"
      ]
    },
    {
      "cell_type": "code",
      "execution_count": 1,
      "metadata": {
        "id": "b3NRnk-_JOMF"
      },
      "outputs": [],
      "source": [
        "import torch\n",
        "import torch.nn as nn\n",
        "import torch.nn.functional as F\n",
        "from torch.utils.data import dataset\n",
        "import numpy as np\n",
        "import matplotlib.pyplot as plt"
      ]
    },
    {
      "cell_type": "code",
      "source": [
        "class MultiHeadAttention(nn.Module):\n",
        "  def __init__(self, d_k, d_v, d_model, n_heads):\n",
        "    super().__init__()\n",
        "\n",
        "    self.d_k = d_k\n",
        "    self.d_v = d_v\n",
        "    self.n_heads = n_heads\n",
        "\n",
        "    self.W_q = nn.Linear(d_model,d_k*n_heads)\n",
        "    self.W_k = nn.Linear(d_model,d_k*n_heads)\n",
        "    self.W_v = nn.Linear(d_model,d_v*n_heads)\n",
        "    self.fc = nn.Linear(d_v*n_heads, d_model)\n",
        "\n",
        "  def forward(self, X, mask=None): # X could be q,k,v that are different\n",
        "    Q = self.W_q(X)  # N × T × h*d_k\n",
        "    K = self.W_k(X)  # N × T × h*d_k\n",
        "    V = self.W_v(X)  # N × T × h*d_v\n",
        "\n",
        "    N = Q.shape[0]\n",
        "    T = Q.shape[1]\n",
        "\n",
        "    Q = Q.view(N, T, self.n_heads, self.d_k).transpose(1,2) # N × T × h*d_k -->> N × h × T × d_k\n",
        "    K = K.view(N, T, self.n_heads, self.d_k).transpose(1,2) # N × T × h*d_k -->> N × h × T × d_k\n",
        "    V = V.view(N, T, self.n_heads, self.d_k).transpose(1,2) # N × T × h*d_k -->> N × h × T × d_k\n",
        "\n",
        "    AttentionScores = Q @ K.transpose(2,3) / np.sqrt(self.d_k) #  N × h × T × T\n",
        "\n",
        "    if mask is not None:\n",
        "      mask= torch.unsqueeze(mask, 1)\n",
        "      mask= torch.unsqueeze(mask, 1)\n",
        "      AttentionScores = AttentionScores.masked_fill(mask == 0, float('-inf'))\n",
        "\n",
        "    AttentionWeights = F.softmax(AttentionScores, dim=-1) #  N × h × T × T\n",
        "\n",
        "    A = AttentionWeights @ V #  N × h × T × d_v\n",
        "    A = A.transpose(1,2).contiguous().view(N, T, self.n_heads*self.d_v ) #  N × T × h*d_v\n",
        "\n",
        "    return self.fc(A)\n"
      ],
      "metadata": {
        "id": "ct1twvvhJuoQ"
      },
      "execution_count": 32,
      "outputs": []
    },
    {
      "cell_type": "code",
      "source": [
        "class TransformerBlock(nn.Module):\n",
        "  def __init__(self, d_k, d_v, d_model, n_heads, dropout_prob=0.2):\n",
        "    super().__init__()\n",
        "\n",
        "    self.ln1 = nn.LayerNorm(d_model)\n",
        "    self.ln2 = nn.LayerNorm(d_model)\n",
        "    self.mha = MultiHeadAttention(d_k, d_v, d_model, n_heads)\n",
        "    self.ann = nn.Sequential(\n",
        "        nn.Linear(d_model, d_model*3),\n",
        "        nn.GELU(),\n",
        "        nn.Linear(d_model*3, d_model),\n",
        "        nn.Dropout(dropout_prob)\n",
        "    )\n",
        "    self.dropout = nn.Dropout(dropout_prob)\n",
        "\n",
        "  def forward(self, x, mask= None):\n",
        "    x = self.ln1(x + self.mha(x,mask))\n",
        "    x = self.ln2(x + self.ann(x))\n",
        "    x = self.dropout(x)\n",
        "    return x"
      ],
      "metadata": {
        "id": "0vl3IgkYBxid"
      },
      "execution_count": 33,
      "outputs": []
    },
    {
      "cell_type": "code",
      "source": [
        "class PositionalEncoding(nn.Module):\n",
        "  def __init__(self, d_model, max_len = 2048, dropout_prob=0.2):\n",
        "    super().__init__()\n",
        "    self.dropout = nn.Dropout(dropout_prob)\n",
        "\n",
        "    position = torch.arange(max_len).unsqueeze(1)\n",
        "    exp_term = torch.arange(0, d_model, 2)\n",
        "    div_term = torch.exp(exp_term * (-np.log(10000.0) / d_model))\n",
        "    pe = torch.zeros(1, max_len, d_model)\n",
        "    pe[0, :, 0::2] = torch.sin(position * div_term)\n",
        "    pe[0, :, 1::2] = torch.cos(position * div_term)\n",
        "    self.register_buffer('pe',pe)\n",
        "\n",
        "  def forward(self, x):\n",
        "    x = x+self.pe[:, :x.size(1), :]\n",
        "    return self.dropout(x)"
      ],
      "metadata": {
        "id": "tru3IEPiBxf7"
      },
      "execution_count": 34,
      "outputs": []
    },
    {
      "cell_type": "code",
      "source": [
        "class Encoder(nn.Module):\n",
        "  def __init__(self, vocab_size, max_len,d_model,d_k,d_v,\n",
        "               n_heads,n_layers,n_classes,dropout_prob):\n",
        "    super().__init__()\n",
        "    self.embedding = nn.Embedding(vocab_size,d_model)\n",
        "    self.pos_encoding = PositionalEncoding(d_model, max_len, dropout_prob)\n",
        "    transformer_blocks = [TransformerBlock(d_k, d_v,\n",
        "                                           d_model,\n",
        "                                           n_heads,\n",
        "                                           dropout_prob) for i in range(n_layers)]\n",
        "\n",
        "    self.transformer_blocks = nn.Sequential(*transformer_blocks)\n",
        "    self.ln = nn.LayerNorm(d_model)\n",
        "    self.fc = nn.Linear(d_model, n_classes)\n",
        "\n",
        "  def forward(self, x, mask=None):\n",
        "    x = self.embedding(x)\n",
        "    x = self.pos_encoding(x)\n",
        "    for block in self.transformer_blocks:\n",
        "      x = block(x, mask)\n",
        "\n",
        "\n",
        "    x = x[:,0,:] # get one of the hidden vectors if it is a one-classfification problem\n",
        "\n",
        "\n",
        "    x = self.ln(x)\n",
        "    x = self.fc(x)\n",
        "\n",
        "    return x\n"
      ],
      "metadata": {
        "id": "L2444xOtxyDe"
      },
      "execution_count": 35,
      "outputs": []
    },
    {
      "cell_type": "code",
      "source": [
        "model = Encoder(vocab_size = 10000,\n",
        "                max_len = 512,\n",
        "                d_model = 32,\n",
        "                d_k = 8,\n",
        "                d_v = 8,\n",
        "                n_heads = 6,\n",
        "                n_layers = 3,\n",
        "                n_classes = 4,\n",
        "                dropout_prob = .1)"
      ],
      "metadata": {
        "id": "JgLD7NTjGsz-"
      },
      "execution_count": 45,
      "outputs": []
    },
    {
      "cell_type": "code",
      "source": [
        "device = 'cuda:0' if torch.cuda.is_available() else 'cpu'\n",
        "model.to(device)"
      ],
      "metadata": {
        "colab": {
          "base_uri": "https://localhost:8080/"
        },
        "id": "-QyZz2xzGsx0",
        "outputId": "9690711d-5000-4fd2-f437-b01b8eaa234a"
      },
      "execution_count": 46,
      "outputs": [
        {
          "output_type": "execute_result",
          "data": {
            "text/plain": [
              "Encoder(\n",
              "  (embedding): Embedding(10000, 32)\n",
              "  (pos_encoding): PositionalEncoding(\n",
              "    (dropout): Dropout(p=0.1, inplace=False)\n",
              "  )\n",
              "  (transformer_blocks): Sequential(\n",
              "    (0): TransformerBlock(\n",
              "      (ln1): LayerNorm((32,), eps=1e-05, elementwise_affine=True)\n",
              "      (ln2): LayerNorm((32,), eps=1e-05, elementwise_affine=True)\n",
              "      (mha): MultiHeadAttention(\n",
              "        (W_q): Linear(in_features=32, out_features=48, bias=True)\n",
              "        (W_k): Linear(in_features=32, out_features=48, bias=True)\n",
              "        (W_v): Linear(in_features=32, out_features=48, bias=True)\n",
              "        (fc): Linear(in_features=48, out_features=32, bias=True)\n",
              "      )\n",
              "      (ann): Sequential(\n",
              "        (0): Linear(in_features=32, out_features=96, bias=True)\n",
              "        (1): GELU(approximate='none')\n",
              "        (2): Linear(in_features=96, out_features=32, bias=True)\n",
              "        (3): Dropout(p=0.1, inplace=False)\n",
              "      )\n",
              "      (dropout): Dropout(p=0.1, inplace=False)\n",
              "    )\n",
              "    (1): TransformerBlock(\n",
              "      (ln1): LayerNorm((32,), eps=1e-05, elementwise_affine=True)\n",
              "      (ln2): LayerNorm((32,), eps=1e-05, elementwise_affine=True)\n",
              "      (mha): MultiHeadAttention(\n",
              "        (W_q): Linear(in_features=32, out_features=48, bias=True)\n",
              "        (W_k): Linear(in_features=32, out_features=48, bias=True)\n",
              "        (W_v): Linear(in_features=32, out_features=48, bias=True)\n",
              "        (fc): Linear(in_features=48, out_features=32, bias=True)\n",
              "      )\n",
              "      (ann): Sequential(\n",
              "        (0): Linear(in_features=32, out_features=96, bias=True)\n",
              "        (1): GELU(approximate='none')\n",
              "        (2): Linear(in_features=96, out_features=32, bias=True)\n",
              "        (3): Dropout(p=0.1, inplace=False)\n",
              "      )\n",
              "      (dropout): Dropout(p=0.1, inplace=False)\n",
              "    )\n",
              "    (2): TransformerBlock(\n",
              "      (ln1): LayerNorm((32,), eps=1e-05, elementwise_affine=True)\n",
              "      (ln2): LayerNorm((32,), eps=1e-05, elementwise_affine=True)\n",
              "      (mha): MultiHeadAttention(\n",
              "        (W_q): Linear(in_features=32, out_features=48, bias=True)\n",
              "        (W_k): Linear(in_features=32, out_features=48, bias=True)\n",
              "        (W_v): Linear(in_features=32, out_features=48, bias=True)\n",
              "        (fc): Linear(in_features=48, out_features=32, bias=True)\n",
              "      )\n",
              "      (ann): Sequential(\n",
              "        (0): Linear(in_features=32, out_features=96, bias=True)\n",
              "        (1): GELU(approximate='none')\n",
              "        (2): Linear(in_features=96, out_features=32, bias=True)\n",
              "        (3): Dropout(p=0.1, inplace=False)\n",
              "      )\n",
              "      (dropout): Dropout(p=0.1, inplace=False)\n",
              "    )\n",
              "  )\n",
              "  (ln): LayerNorm((32,), eps=1e-05, elementwise_affine=True)\n",
              "  (fc): Linear(in_features=32, out_features=4, bias=True)\n",
              ")"
            ]
          },
          "metadata": {},
          "execution_count": 46
        }
      ]
    },
    {
      "cell_type": "code",
      "source": [
        "x = np.random.randint(0, 10000, size=(8,256))\n",
        "x_t = torch.tensor(x).to(device)"
      ],
      "metadata": {
        "id": "VBedI481Gsvj"
      },
      "execution_count": 64,
      "outputs": []
    },
    {
      "cell_type": "code",
      "source": [
        "mask = np.ones((8,256))\n",
        "mask[:,128:] = 0\n",
        "mask_t = torch.tensor(mask).to(device)"
      ],
      "metadata": {
        "id": "4pk3xN7xGssj"
      },
      "execution_count": 65,
      "outputs": []
    },
    {
      "cell_type": "code",
      "source": [
        "y = model(x_t, mask_t)\n",
        "y.shape"
      ],
      "metadata": {
        "colab": {
          "base_uri": "https://localhost:8080/"
        },
        "id": "A1NXAXmnJOGm",
        "outputId": "96afa6e9-789d-43ed-b258-620bbcdcc223"
      },
      "execution_count": 66,
      "outputs": [
        {
          "output_type": "execute_result",
          "data": {
            "text/plain": [
              "torch.Size([8, 4])"
            ]
          },
          "metadata": {},
          "execution_count": 66
        }
      ]
    },
    {
      "cell_type": "code",
      "source": [],
      "metadata": {
        "id": "vklteL9fJUNs"
      },
      "execution_count": 66,
      "outputs": []
    }
  ]
}