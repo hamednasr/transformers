{
  "cells": [
    {
      "cell_type": "markdown",
      "metadata": {
        "id": "view-in-github",
        "colab_type": "text"
      },
      "source": [
        "<a href=\"https://colab.research.google.com/github/hamednasr/transformers/blob/main/Encoder_Decoder_transformers_in_pytorch.ipynb\" target=\"_parent\"><img src=\"https://colab.research.google.com/assets/colab-badge.svg\" alt=\"Open In Colab\"/></a>"
      ]
    },
    {
      "cell_type": "markdown",
      "metadata": {
        "id": "y82db86zU7DN"
      },
      "source": [
        "# Building Encoder-Decoder Seq2Seq Transformer"
      ]
    },
    {
      "cell_type": "code",
      "execution_count": null,
      "metadata": {
        "id": "MOPHQO6u3Vj-"
      },
      "outputs": [],
      "source": [
        "!pip -q install transformers datasets sentencepiece sacremoses"
      ]
    },
    {
      "cell_type": "code",
      "execution_count": null,
      "metadata": {
        "id": "b3NRnk-_JOMF"
      },
      "outputs": [],
      "source": [
        "import torch\n",
        "import torch.nn as nn\n",
        "import torch.nn.functional as F\n",
        "from torch.utils.data import dataset, DataLoader\n",
        "import numpy as np\n",
        "import pandas as pd\n",
        "import matplotlib.pyplot as plt\n",
        "from transformers import AutoTokenizer, DataCollatorForSeq2Seq\n",
        "from datasets import load_dataset\n",
        "from datetime import datetime\n",
        "import matplotlib.pyplot as plt\n",
        "from IPython import display\n",
        "display.set_matplotlib_formats('svg')"
      ]
    },
    {
      "cell_type": "code",
      "execution_count": null,
      "metadata": {
        "id": "ct1twvvhJuoQ"
      },
      "outputs": [],
      "source": [
        "class MultiHeadAttention(nn.Module):\n",
        "  def __init__(self, d_k, d_v, d_model, n_heads, max_len, causal = False):\n",
        "    super().__init__()\n",
        "\n",
        "    self.d_k = d_k\n",
        "    self.d_v = d_v\n",
        "    self.n_heads = n_heads\n",
        "\n",
        "    self.W_q = nn.Linear(d_model,d_k*n_heads)\n",
        "    self.W_k = nn.Linear(d_model,d_k*n_heads)\n",
        "    self.W_v = nn.Linear(d_model,d_v*n_heads)\n",
        "    self.fc = nn.Linear(d_v*n_heads, d_model)\n",
        "\n",
        "    self.causal = causal\n",
        "\n",
        "    if causal:\n",
        "      cm = torch.tril(torch.ones(max_len,max_len))\n",
        "      self.register_buffer('causal_mask', cm.view(1,1,max_len,max_len))\n",
        "\n",
        "\n",
        "  def forward(self, q, k, v, pad_mask=None):\n",
        "    Q = self.W_q(q)  # N × T × h*d_k\n",
        "    K = self.W_k(k)  # N × T × h*d_k\n",
        "    V = self.W_v(v)  # N × T × h*d_v\n",
        "\n",
        "    N = Q.shape[0]\n",
        "    T_output = Q.shape[1] # Q comes from decoder and K,V come from encoder\n",
        "    T_input = K.shape[1]  # it also works for encoder-decoder transformers\n",
        "\n",
        "    Q = Q.view(N, T_output, self.n_heads, self.d_k).transpose(1,2) # N × T × h*d_k -->> N × h × T × d_k\n",
        "    K = K.view(N, T_input, self.n_heads, self.d_k).transpose(1,2) # N × T × h*d_k -->> N × h × T × d_k\n",
        "    V = V.view(N, T_input, self.n_heads, self.d_k).transpose(1,2) # N × T × h*d_k -->> N × h × T × d_k\n",
        "\n",
        "    AttentionScores = Q @ K.transpose(2,3) / np.sqrt(self.d_k) #  N × h × T × T\n",
        "\n",
        "    if pad_mask is not None:\n",
        "      AttentionScores = AttentionScores.masked_fill(pad_mask[:,None,None,:] == 0, float('-inf'))\n",
        "\n",
        "    if self.causal:\n",
        "      AttentionScores = AttentionScores.masked_fill(self.causal_mask[:,:,:T_output,:T_input] == 0, float('-inf'))\n",
        "\n",
        "\n",
        "    AttentionWeights = F.softmax(AttentionScores, dim=-1) #  N × h × T × T\n",
        "\n",
        "    A = AttentionWeights @ V #  N × h × T × d_v\n",
        "    A = A.transpose(1,2).contiguous().view(N, T_output, self.n_heads*self.d_v ) #  N × T × h*d_v\n",
        "\n",
        "    return self.fc(A)\n"
      ]
    },
    {
      "cell_type": "code",
      "execution_count": null,
      "metadata": {
        "id": "0vl3IgkYBxid"
      },
      "outputs": [],
      "source": [
        "class EncoderBlock(nn.Module):\n",
        "  def __init__(self, d_k, d_v, d_model, n_heads, max_len, dropout_prob=0.2):\n",
        "    super().__init__()\n",
        "\n",
        "    self.ln1 = nn.LayerNorm(d_model)\n",
        "    self.ln2 = nn.LayerNorm(d_model)\n",
        "    self.mha = MultiHeadAttention(d_k, d_v, d_model, n_heads,max_len,causal=False)\n",
        "    self.ann = nn.Sequential(\n",
        "        nn.Linear(d_model, d_model*3),\n",
        "        nn.GELU(),\n",
        "        nn.Linear(d_model*3, d_model),\n",
        "        nn.Dropout(dropout_prob)\n",
        "    )\n",
        "    self.dropout = nn.Dropout(dropout_prob)\n",
        "\n",
        "  def forward(self, x, pad_mask= None):\n",
        "    x = self.ln1(x + self.mha(x,x,x,pad_mask))\n",
        "    x = self.ln2(x + self.ann(x))\n",
        "    x = self.dropout(x)\n",
        "\n",
        "    return x"
      ]
    },
    {
      "cell_type": "code",
      "execution_count": null,
      "metadata": {
        "id": "Q4a6SgNYDMjd"
      },
      "outputs": [],
      "source": [
        "class DecoderBlock(nn.Module):\n",
        "  def __init__(self, d_k, d_v, d_model, n_heads, max_len, dropout_prob=0.2):\n",
        "    super().__init__()\n",
        "\n",
        "    self.ln1 = nn.LayerNorm(d_model)\n",
        "    self.ln2 = nn.LayerNorm(d_model)\n",
        "    self.ln3 = nn.LayerNorm(d_model)\n",
        "\n",
        "    self.mha1 = MultiHeadAttention(d_k, d_v, d_model, n_heads, max_len, causal=True)\n",
        "    self.mha2 = MultiHeadAttention(d_k, d_v, d_model, n_heads, max_len, causal=False)\n",
        "\n",
        "    self.ann = nn.Sequential(\n",
        "        nn.Linear(d_model, d_model*3),\n",
        "        nn.GELU(),\n",
        "        nn.Linear(d_model*3, d_model),\n",
        "        nn.Dropout(dropout_prob)\n",
        "    )\n",
        "    self.dropout = nn.Dropout(dropout_prob)\n",
        "\n",
        "  def forward(self, encoder_output, decoder_input, enc_mask=None, dec_mask=None):\n",
        "    x = self.ln1(decoder_input + self.mha1(decoder_input, decoder_input, decoder_input, dec_mask)) # first multihead attention\n",
        "    x = self.ln2(x + self.mha2(x, encoder_output, encoder_output, enc_mask)) # second multihead attention\n",
        "    x = self.ln3(x + self.ann(x))\n",
        "    x = self.dropout(x)\n",
        "\n",
        "    return x"
      ]
    },
    {
      "cell_type": "code",
      "execution_count": null,
      "metadata": {
        "id": "tru3IEPiBxf7"
      },
      "outputs": [],
      "source": [
        "class PositionalEncoding(nn.Module):\n",
        "  def __init__(self, d_model, max_len = 2048, dropout_prob=0.2):\n",
        "    super().__init__()\n",
        "    self.dropout = nn.Dropout(dropout_prob)\n",
        "\n",
        "    position = torch.arange(max_len).unsqueeze(1)\n",
        "    exp_term = torch.arange(0, d_model, 2)\n",
        "    div_term = torch.exp(exp_term * (-np.log(10000.0) / d_model))\n",
        "    pe = torch.zeros(1, max_len, d_model)\n",
        "    pe[0, :, 0::2] = torch.sin(position * div_term)\n",
        "    pe[0, :, 1::2] = torch.cos(position * div_term)\n",
        "    self.register_buffer('pe',pe)\n",
        "\n",
        "  def forward(self, x):\n",
        "    x = x+self.pe[:, :x.size(1), :]\n",
        "\n",
        "    return self.dropout(x)"
      ]
    },
    {
      "cell_type": "code",
      "execution_count": null,
      "metadata": {
        "id": "L2444xOtxyDe"
      },
      "outputs": [],
      "source": [
        "class Encoder(nn.Module):\n",
        "\n",
        "  def __init__(self, vocab_size, max_len,d_model,d_k,d_v,\n",
        "               n_heads,n_layers,dropout_prob):\n",
        "    super().__init__()\n",
        "\n",
        "    self.embedding = nn.Embedding(vocab_size,d_model)\n",
        "    self.pos_encoding = PositionalEncoding(d_model, max_len, dropout_prob)\n",
        "    transformer_blocks = [EncoderBlock(d_k, d_v,\n",
        "                                        d_model,\n",
        "                                        n_heads,\n",
        "                                        max_len,\n",
        "                                        dropout_prob) for i in range(n_layers)]\n",
        "\n",
        "    self.transformer_blocks = nn.Sequential(*transformer_blocks)\n",
        "    self.ln = nn.LayerNorm(d_model)\n",
        "    # self.fc = nn.Linear(d_model, n_classes)\n",
        "\n",
        "  def forward(self, x, pad_mask=None):\n",
        "    x = self.embedding(x)\n",
        "    x = self.pos_encoding(x)\n",
        "    for block in self.transformer_blocks:\n",
        "      x = block(x, pad_mask)\n",
        "\n",
        "    # x = x[:,0,:] #many to one: get one of the hidden vectors if it is a one-classfification problem\n",
        "    x = self.ln(x)\n",
        "    # x = self.fc(x)  # no need for this in encoder-decoder\n",
        "\n",
        "    return x\n"
      ]
    },
    {
      "cell_type": "code",
      "execution_count": null,
      "metadata": {
        "id": "dZ99GozZL95Z"
      },
      "outputs": [],
      "source": [
        "class Decoder(nn.Module):\n",
        "\n",
        "  def __init__(self, vocab_size, max_len,d_model,d_k,d_v,\n",
        "               n_heads,n_layers,dropout_prob):\n",
        "    super().__init__()\n",
        "\n",
        "    self.embedding = nn.Embedding(vocab_size,d_model)\n",
        "    self.pos_encoding = PositionalEncoding(d_model, max_len, dropout_prob)\n",
        "    transformer_blocks = [DecoderBlock(d_k, d_v,\n",
        "                                        d_model,\n",
        "                                        n_heads,\n",
        "                                        max_len,\n",
        "                                        dropout_prob) for i in range(n_layers)]\n",
        "\n",
        "    self.transformer_blocks = nn.Sequential(*transformer_blocks)\n",
        "    self.ln = nn.LayerNorm(d_model)\n",
        "    self.fc = nn.Linear(d_model, vocab_size)\n",
        "\n",
        "  def forward(self, encoder_output, decoder_input, enc_mask=None, dec_mask=None):\n",
        "    x = self.embedding(decoder_input)\n",
        "    x = self.pos_encoding(x)\n",
        "\n",
        "    for block in self.transformer_blocks:\n",
        "      x = block(encoder_output, x, enc_mask, dec_mask)\n",
        "\n",
        "\n",
        "    # x = x[:,0,:] #many to one: get one of the hidden vectors if it is a one-classfification problem\n",
        "\n",
        "\n",
        "    x = self.ln(x)\n",
        "    x = self.fc(x) # many to many since output of model is a text\n",
        "\n",
        "    return x\n"
      ]
    },
    {
      "cell_type": "code",
      "execution_count": null,
      "metadata": {
        "id": "OUj4G3UqQHti"
      },
      "outputs": [],
      "source": [
        "class Transformer(nn.Module):\n",
        "\n",
        "  def __init__(self, encoder, decoder):\n",
        "    super().__init__()\n",
        "\n",
        "    self.encoder = encoder\n",
        "    self.decoder = decoder\n",
        "\n",
        "  def forward(self, encoder_input, decoder_input, enc_mask, dec_mask):\n",
        "    encoder_output = self.encoder(encoder_input, enc_mask)\n",
        "    decoder_output = self.decoder(encoder_output, decoder_input, enc_mask, dec_mask)\n",
        "\n",
        "    return decoder_output\n"
      ]
    },
    {
      "cell_type": "markdown",
      "metadata": {
        "id": "j-jJh3DnUxx2"
      },
      "source": [
        "## dummy data and transformer sanity check"
      ]
    },
    {
      "cell_type": "code",
      "execution_count": null,
      "metadata": {
        "id": "2QNWm4WYTFfn"
      },
      "outputs": [],
      "source": [
        "encoder = Encoder(vocab_size=10000,\n",
        "                  max_len=512,\n",
        "                  d_model=64,\n",
        "                  d_k=8,\n",
        "                  d_v=8,\n",
        "                  n_heads=6,\n",
        "                  n_layers=3,\n",
        "                  dropout_prob=0.1)\n",
        "\n",
        "decoder = Decoder(vocab_size=20000,\n",
        "                  max_len=512,\n",
        "                  d_model=64,\n",
        "                  d_k=8,\n",
        "                  d_v=8,\n",
        "                  n_heads=6,\n",
        "                  n_layers=3,\n",
        "                  dropout_prob=0.1)\n",
        "\n",
        "transformer = Transformer(encoder, decoder)"
      ]
    },
    {
      "cell_type": "code",
      "execution_count": null,
      "metadata": {
        "id": "irR83PFYTtvZ"
      },
      "outputs": [],
      "source": [
        "device = 'cuda:0' if torch.cuda.is_available() else 'cpu'\n",
        "print(device)\n",
        "encoder = encoder.to(device)\n",
        "decoder = decoder.to(device)"
      ]
    },
    {
      "cell_type": "code",
      "execution_count": null,
      "metadata": {
        "id": "bAwVEs0LWHuQ"
      },
      "outputs": [],
      "source": [
        "enc_inp = np.random.randint(0,10000, size=(5,512))\n",
        "enc_inp = torch.tensor(enc_inp).to(device)\n",
        "\n",
        "dec_inp = np.random.randint(0,20000, size=(5,512))\n",
        "dec_inp = torch.tensor(enc_inp).to(device)\n",
        "\n",
        "maske = np.ones((5,512))\n",
        "maske[:,256:]= 0\n",
        "maske = torch.tensor(maske).to(device)\n",
        "\n",
        "maskd = np.ones((5,512))\n",
        "maskd[:,128:]= 0\n",
        "maskd = torch.tensor(maskd).to(device)"
      ]
    },
    {
      "cell_type": "code",
      "execution_count": null,
      "metadata": {
        "id": "4T8shagPW8Pt"
      },
      "outputs": [],
      "source": [
        "output = transformer(enc_inp, dec_inp, maske, maskd)\n",
        "output.shape"
      ]
    },
    {
      "cell_type": "markdown",
      "metadata": {
        "id": "dmke21zWtSo1"
      },
      "source": [
        "## download datasaet (english-spanish) convert to csv"
      ]
    },
    {
      "cell_type": "code",
      "execution_count": null,
      "metadata": {
        "id": "qqsBpdCUtSZc"
      },
      "outputs": [],
      "source": [
        "!wget https://lazyprogrammer.me/course_files/nlp3/spa.txt"
      ]
    },
    {
      "cell_type": "code",
      "execution_count": null,
      "metadata": {
        "id": "0xthxUTLth_C"
      },
      "outputs": [],
      "source": [
        "df = pd.read_csv('spa.txt',sep='\\t',header=None)\n",
        "df"
      ]
    },
    {
      "cell_type": "code",
      "execution_count": null,
      "metadata": {
        "id": "zKv3iA0AuNap"
      },
      "outputs": [],
      "source": [
        "# df = df.iloc[:40000,:]\n",
        "df.columns = ['en','es']\n",
        "df.to_csv('spa.csv', index=None)"
      ]
    },
    {
      "cell_type": "code",
      "source": [
        "raw_dataset = load_dataset('csv', data_files='spa.csv')\n",
        "raw_dataset"
      ],
      "metadata": {
        "id": "ZIgnbx4VoZHY"
      },
      "execution_count": null,
      "outputs": []
    },
    {
      "cell_type": "code",
      "source": [
        "split = raw_dataset['train'].train_test_split(test_size=0.05, seed=5)\n",
        "split"
      ],
      "metadata": {
        "id": "wFDqGJEfpJ27"
      },
      "execution_count": null,
      "outputs": []
    },
    {
      "cell_type": "markdown",
      "source": [
        "## tokenization"
      ],
      "metadata": {
        "id": "-UnaTFeYtvDD"
      }
    },
    {
      "cell_type": "code",
      "source": [
        "checkpoint = 'Helsinki-NLP/opus-mt-en-es'\n",
        "tokenizer = AutoTokenizer.from_pretrained(checkpoint)"
      ],
      "metadata": {
        "id": "JSfF2FxVpJ0l"
      },
      "execution_count": null,
      "outputs": []
    },
    {
      "cell_type": "code",
      "source": [
        "split['train']['en'][0], tokenizer(split['train']['en'][0])"
      ],
      "metadata": {
        "id": "dEDgqYhfpJyH"
      },
      "execution_count": null,
      "outputs": []
    },
    {
      "cell_type": "code",
      "source": [
        "tokenizer.decode([3749, 40, 2207, 58, 35, 21, 0])"
      ],
      "metadata": {
        "id": "IQMNjKM6Alvb"
      },
      "execution_count": null,
      "outputs": []
    },
    {
      "cell_type": "code",
      "source": [
        "split['train']['es'][0], tokenizer(text_target=split['train']['es'][0])"
      ],
      "metadata": {
        "id": "bxQyQ9mOq6HX"
      },
      "execution_count": null,
      "outputs": []
    },
    {
      "cell_type": "code",
      "source": [
        "target = tokenizer(text_target=split['train']['es'][0])"
      ],
      "metadata": {
        "id": "25KUpdBmrVH1"
      },
      "execution_count": null,
      "outputs": []
    },
    {
      "cell_type": "code",
      "source": [
        "tokenizer.convert_ids_to_tokens(target['input_ids'])"
      ],
      "metadata": {
        "id": "Jx6zOPCzrLt1"
      },
      "execution_count": null,
      "outputs": []
    },
    {
      "cell_type": "markdown",
      "source": [
        "## map tokenizer function to all data , preprocess data"
      ],
      "metadata": {
        "id": "69eyvF8JrwM7"
      }
    },
    {
      "cell_type": "code",
      "source": [
        "max_input_length=256\n",
        "max_target_length=256"
      ],
      "metadata": {
        "id": "6a8KD1P1r_Vl"
      },
      "execution_count": null,
      "outputs": []
    },
    {
      "cell_type": "code",
      "source": [
        "def preprocess_fn(batch):\n",
        "  model_inputs = tokenizer(batch['en'], max_length=max_input_length, truncation=True)\n",
        "  labels = tokenizer(text_target=batch['en'], max_length=max_target_length, truncation=True)\n",
        "  model_inputs['labels'] = labels['input_ids']\n",
        "  return model_inputs"
      ],
      "metadata": {
        "id": "k5xn8Pd9rzN0"
      },
      "execution_count": null,
      "outputs": []
    },
    {
      "cell_type": "code",
      "source": [
        "tokenized_dataset = split.map(preprocess_fn,\n",
        "                              batched=True,\n",
        "                              remove_columns=split['train'].column_names)\n",
        "tokenized_dataset"
      ],
      "metadata": {
        "id": "BzF-mIIasmqU"
      },
      "execution_count": null,
      "outputs": []
    },
    {
      "cell_type": "code",
      "source": [
        "tokenized_dataset['train'][0]"
      ],
      "metadata": {
        "id": "QlApqTXWuWPJ"
      },
      "execution_count": null,
      "outputs": []
    },
    {
      "cell_type": "markdown",
      "metadata": {
        "id": "rff-h_1G4DFh"
      },
      "source": [
        "## data collator"
      ]
    },
    {
      "cell_type": "code",
      "execution_count": null,
      "metadata": {
        "id": "5rtMt0Qz6ZjT"
      },
      "outputs": [],
      "source": [
        "data_collator = DataCollatorForSeq2Seq(tokenizer=tokenizer)\n",
        "data_collator"
      ]
    },
    {
      "cell_type": "code",
      "source": [
        "data_collator([tokenized_dataset['train'][i] for i in range(6,11)])\n",
        "#end of sentence token is 0 and\n",
        "# input padding is 65000 and target padding is -100"
      ],
      "metadata": {
        "id": "MiuM1sgGubGs"
      },
      "execution_count": null,
      "outputs": []
    },
    {
      "cell_type": "markdown",
      "source": [
        "## special tokens"
      ],
      "metadata": {
        "id": "VIW9Tct35bz6"
      }
    },
    {
      "cell_type": "code",
      "source": [
        "tokenizer.all_special_ids, tokenizer.all_special_tokens"
      ],
      "metadata": {
        "id": "hfZVVM1Zwak6"
      },
      "execution_count": null,
      "outputs": []
    },
    {
      "cell_type": "code",
      "source": [
        "tokenizer('<unk>') #end of sentence is always added (</s>)"
      ],
      "metadata": {
        "id": "e0PXUnRxwaiZ"
      },
      "execution_count": null,
      "outputs": []
    },
    {
      "cell_type": "code",
      "source": [
        "# this tokenizer does not have start of sentence tokenizer, which is required for decoder part\n",
        "tokenizer.add_special_tokens({'cls_token':'<s>'})"
      ],
      "metadata": {
        "id": "mRRgq-PMwaf2"
      },
      "execution_count": null,
      "outputs": []
    },
    {
      "cell_type": "code",
      "source": [
        "tokenizer('<s>')"
      ],
      "metadata": {
        "id": "97vhLAiK20dP"
      },
      "execution_count": null,
      "outputs": []
    },
    {
      "cell_type": "code",
      "source": [
        "tokenizer.all_special_ids, tokenizer.all_special_tokens"
      ],
      "metadata": {
        "id": "L5J22waE3oAL"
      },
      "execution_count": null,
      "outputs": []
    },
    {
      "cell_type": "code",
      "source": [
        "tokenizer.vocab_size # it is actually 65002 , we added <s>"
      ],
      "metadata": {
        "id": "_ux2fby43n93"
      },
      "execution_count": null,
      "outputs": []
    },
    {
      "cell_type": "code",
      "source": [
        "tokenizer.pad_token_id"
      ],
      "metadata": {
        "id": "bzBsqXNTJr4c"
      },
      "execution_count": null,
      "outputs": []
    },
    {
      "cell_type": "markdown",
      "source": [
        "## data loader"
      ],
      "metadata": {
        "id": "G-Kc3l4h5vyO"
      }
    },
    {
      "cell_type": "code",
      "execution_count": null,
      "metadata": {
        "id": "FZ09je2a-koH"
      },
      "outputs": [],
      "source": [
        "BATCH_SIZE = 32\n",
        "\n",
        "train_loader = DataLoader(tokenized_dataset['train'],\n",
        "                          batch_size=BATCH_SIZE,\n",
        "                          shuffle=True,\n",
        "                          collate_fn=data_collator)\n",
        "\n",
        "val_loader = DataLoader(tokenized_dataset['test'],\n",
        "                          batch_size=BATCH_SIZE,\n",
        "                          collate_fn=data_collator)"
      ]
    },
    {
      "cell_type": "code",
      "source": [
        "train_loader"
      ],
      "metadata": {
        "id": "x7A6wUFAxYdK"
      },
      "execution_count": null,
      "outputs": []
    },
    {
      "cell_type": "code",
      "execution_count": null,
      "metadata": {
        "id": "qkPIruGHAtJw"
      },
      "outputs": [],
      "source": [
        "for batch in train_loader:\n",
        "  for k, v in batch.items():\n",
        "    print('k:',k,'v.shape:',v.shape)\n",
        "  break"
      ]
    },
    {
      "cell_type": "code",
      "source": [
        "for batch in train_loader:\n",
        "  targets = batch['labels'][:3,:]\n",
        "  print(targets)\n",
        "  print('************************************************')\n",
        "  print(torch.roll(targets,shifts=1,dims=1)) # decoder input\n",
        "  break"
      ],
      "metadata": {
        "id": "FRLd1-hqFGye"
      },
      "execution_count": null,
      "outputs": []
    },
    {
      "cell_type": "code",
      "execution_count": null,
      "metadata": {
        "id": "I5fT0QI1L7Gt"
      },
      "outputs": [],
      "source": [
        "tokenizer.max_model_input_sizes"
      ]
    },
    {
      "cell_type": "markdown",
      "source": [
        "## create model"
      ],
      "metadata": {
        "id": "1cKn4Czz6A5F"
      }
    },
    {
      "cell_type": "code",
      "execution_count": null,
      "metadata": {
        "id": "H5uvS_PT4sBX"
      },
      "outputs": [],
      "source": [
        "encoder = Encoder(vocab_size=65002,\n",
        "                  max_len=512,\n",
        "                  d_model=32,\n",
        "                  d_k=8,\n",
        "                  d_v=8,\n",
        "                  n_heads=6,\n",
        "                  n_layers=3,\n",
        "                  dropout_prob=0.1)\n",
        "\n",
        "decoder = Decoder(vocab_size=65002,\n",
        "                  max_len=512,\n",
        "                  d_model=32,\n",
        "                  d_k=8,\n",
        "                  d_v=8,\n",
        "                  n_heads=6,\n",
        "                  n_layers=3,\n",
        "                  dropout_prob=0.1)\n",
        "\n",
        "model = Transformer(encoder, decoder)"
      ]
    },
    {
      "cell_type": "code",
      "execution_count": null,
      "metadata": {
        "colab": {
          "base_uri": "https://localhost:8080/"
        },
        "outputId": "86486603-6478-47ca-99e7-e6118054233a",
        "id": "86N9R-Ar4sBY"
      },
      "outputs": [
        {
          "output_type": "stream",
          "name": "stdout",
          "text": [
            "cuda:0\n"
          ]
        },
        {
          "output_type": "execute_result",
          "data": {
            "text/plain": [
              "Transformer(\n",
              "  (encoder): Encoder(\n",
              "    (embedding): Embedding(65002, 32)\n",
              "    (pos_encoding): PositionalEncoding(\n",
              "      (dropout): Dropout(p=0.1, inplace=False)\n",
              "    )\n",
              "    (transformer_blocks): Sequential(\n",
              "      (0): EncoderBlock(\n",
              "        (ln1): LayerNorm((32,), eps=1e-05, elementwise_affine=True)\n",
              "        (ln2): LayerNorm((32,), eps=1e-05, elementwise_affine=True)\n",
              "        (mha): MultiHeadAttention(\n",
              "          (W_q): Linear(in_features=32, out_features=48, bias=True)\n",
              "          (W_k): Linear(in_features=32, out_features=48, bias=True)\n",
              "          (W_v): Linear(in_features=32, out_features=48, bias=True)\n",
              "          (fc): Linear(in_features=48, out_features=32, bias=True)\n",
              "        )\n",
              "        (ann): Sequential(\n",
              "          (0): Linear(in_features=32, out_features=96, bias=True)\n",
              "          (1): GELU(approximate='none')\n",
              "          (2): Linear(in_features=96, out_features=32, bias=True)\n",
              "          (3): Dropout(p=0.1, inplace=False)\n",
              "        )\n",
              "        (dropout): Dropout(p=0.1, inplace=False)\n",
              "      )\n",
              "      (1): EncoderBlock(\n",
              "        (ln1): LayerNorm((32,), eps=1e-05, elementwise_affine=True)\n",
              "        (ln2): LayerNorm((32,), eps=1e-05, elementwise_affine=True)\n",
              "        (mha): MultiHeadAttention(\n",
              "          (W_q): Linear(in_features=32, out_features=48, bias=True)\n",
              "          (W_k): Linear(in_features=32, out_features=48, bias=True)\n",
              "          (W_v): Linear(in_features=32, out_features=48, bias=True)\n",
              "          (fc): Linear(in_features=48, out_features=32, bias=True)\n",
              "        )\n",
              "        (ann): Sequential(\n",
              "          (0): Linear(in_features=32, out_features=96, bias=True)\n",
              "          (1): GELU(approximate='none')\n",
              "          (2): Linear(in_features=96, out_features=32, bias=True)\n",
              "          (3): Dropout(p=0.1, inplace=False)\n",
              "        )\n",
              "        (dropout): Dropout(p=0.1, inplace=False)\n",
              "      )\n",
              "      (2): EncoderBlock(\n",
              "        (ln1): LayerNorm((32,), eps=1e-05, elementwise_affine=True)\n",
              "        (ln2): LayerNorm((32,), eps=1e-05, elementwise_affine=True)\n",
              "        (mha): MultiHeadAttention(\n",
              "          (W_q): Linear(in_features=32, out_features=48, bias=True)\n",
              "          (W_k): Linear(in_features=32, out_features=48, bias=True)\n",
              "          (W_v): Linear(in_features=32, out_features=48, bias=True)\n",
              "          (fc): Linear(in_features=48, out_features=32, bias=True)\n",
              "        )\n",
              "        (ann): Sequential(\n",
              "          (0): Linear(in_features=32, out_features=96, bias=True)\n",
              "          (1): GELU(approximate='none')\n",
              "          (2): Linear(in_features=96, out_features=32, bias=True)\n",
              "          (3): Dropout(p=0.1, inplace=False)\n",
              "        )\n",
              "        (dropout): Dropout(p=0.1, inplace=False)\n",
              "      )\n",
              "    )\n",
              "    (ln): LayerNorm((32,), eps=1e-05, elementwise_affine=True)\n",
              "  )\n",
              "  (decoder): Decoder(\n",
              "    (embedding): Embedding(65002, 32)\n",
              "    (pos_encoding): PositionalEncoding(\n",
              "      (dropout): Dropout(p=0.1, inplace=False)\n",
              "    )\n",
              "    (transformer_blocks): Sequential(\n",
              "      (0): DecoderBlock(\n",
              "        (ln1): LayerNorm((32,), eps=1e-05, elementwise_affine=True)\n",
              "        (ln2): LayerNorm((32,), eps=1e-05, elementwise_affine=True)\n",
              "        (ln3): LayerNorm((32,), eps=1e-05, elementwise_affine=True)\n",
              "        (mha1): MultiHeadAttention(\n",
              "          (W_q): Linear(in_features=32, out_features=48, bias=True)\n",
              "          (W_k): Linear(in_features=32, out_features=48, bias=True)\n",
              "          (W_v): Linear(in_features=32, out_features=48, bias=True)\n",
              "          (fc): Linear(in_features=48, out_features=32, bias=True)\n",
              "        )\n",
              "        (mha2): MultiHeadAttention(\n",
              "          (W_q): Linear(in_features=32, out_features=48, bias=True)\n",
              "          (W_k): Linear(in_features=32, out_features=48, bias=True)\n",
              "          (W_v): Linear(in_features=32, out_features=48, bias=True)\n",
              "          (fc): Linear(in_features=48, out_features=32, bias=True)\n",
              "        )\n",
              "        (ann): Sequential(\n",
              "          (0): Linear(in_features=32, out_features=96, bias=True)\n",
              "          (1): GELU(approximate='none')\n",
              "          (2): Linear(in_features=96, out_features=32, bias=True)\n",
              "          (3): Dropout(p=0.1, inplace=False)\n",
              "        )\n",
              "        (dropout): Dropout(p=0.1, inplace=False)\n",
              "      )\n",
              "      (1): DecoderBlock(\n",
              "        (ln1): LayerNorm((32,), eps=1e-05, elementwise_affine=True)\n",
              "        (ln2): LayerNorm((32,), eps=1e-05, elementwise_affine=True)\n",
              "        (ln3): LayerNorm((32,), eps=1e-05, elementwise_affine=True)\n",
              "        (mha1): MultiHeadAttention(\n",
              "          (W_q): Linear(in_features=32, out_features=48, bias=True)\n",
              "          (W_k): Linear(in_features=32, out_features=48, bias=True)\n",
              "          (W_v): Linear(in_features=32, out_features=48, bias=True)\n",
              "          (fc): Linear(in_features=48, out_features=32, bias=True)\n",
              "        )\n",
              "        (mha2): MultiHeadAttention(\n",
              "          (W_q): Linear(in_features=32, out_features=48, bias=True)\n",
              "          (W_k): Linear(in_features=32, out_features=48, bias=True)\n",
              "          (W_v): Linear(in_features=32, out_features=48, bias=True)\n",
              "          (fc): Linear(in_features=48, out_features=32, bias=True)\n",
              "        )\n",
              "        (ann): Sequential(\n",
              "          (0): Linear(in_features=32, out_features=96, bias=True)\n",
              "          (1): GELU(approximate='none')\n",
              "          (2): Linear(in_features=96, out_features=32, bias=True)\n",
              "          (3): Dropout(p=0.1, inplace=False)\n",
              "        )\n",
              "        (dropout): Dropout(p=0.1, inplace=False)\n",
              "      )\n",
              "      (2): DecoderBlock(\n",
              "        (ln1): LayerNorm((32,), eps=1e-05, elementwise_affine=True)\n",
              "        (ln2): LayerNorm((32,), eps=1e-05, elementwise_affine=True)\n",
              "        (ln3): LayerNorm((32,), eps=1e-05, elementwise_affine=True)\n",
              "        (mha1): MultiHeadAttention(\n",
              "          (W_q): Linear(in_features=32, out_features=48, bias=True)\n",
              "          (W_k): Linear(in_features=32, out_features=48, bias=True)\n",
              "          (W_v): Linear(in_features=32, out_features=48, bias=True)\n",
              "          (fc): Linear(in_features=48, out_features=32, bias=True)\n",
              "        )\n",
              "        (mha2): MultiHeadAttention(\n",
              "          (W_q): Linear(in_features=32, out_features=48, bias=True)\n",
              "          (W_k): Linear(in_features=32, out_features=48, bias=True)\n",
              "          (W_v): Linear(in_features=32, out_features=48, bias=True)\n",
              "          (fc): Linear(in_features=48, out_features=32, bias=True)\n",
              "        )\n",
              "        (ann): Sequential(\n",
              "          (0): Linear(in_features=32, out_features=96, bias=True)\n",
              "          (1): GELU(approximate='none')\n",
              "          (2): Linear(in_features=96, out_features=32, bias=True)\n",
              "          (3): Dropout(p=0.1, inplace=False)\n",
              "        )\n",
              "        (dropout): Dropout(p=0.1, inplace=False)\n",
              "      )\n",
              "    )\n",
              "    (ln): LayerNorm((32,), eps=1e-05, elementwise_affine=True)\n",
              "    (fc): Linear(in_features=32, out_features=65002, bias=True)\n",
              "  )\n",
              ")"
            ]
          },
          "metadata": {},
          "execution_count": 123
        }
      ],
      "source": [
        "device = 'cuda:0' if torch.cuda.is_available() else 'cpu'\n",
        "print(device)\n",
        "model.to(device)\n",
        "# decoder.to(device)"
      ]
    },
    {
      "cell_type": "code",
      "execution_count": null,
      "metadata": {
        "colab": {
          "base_uri": "https://localhost:8080/"
        },
        "id": "8ihhohemVhnH",
        "outputId": "09b9e940-1171-4baf-df2e-253769c825e0"
      },
      "outputs": [
        {
          "output_type": "execute_result",
          "data": {
            "text/plain": [
              "<torch.utils.data.dataloader.DataLoader at 0x7a3e4ba8ab30>"
            ]
          },
          "metadata": {},
          "execution_count": 124
        }
      ],
      "source": [
        "train_loader"
      ]
    },
    {
      "cell_type": "markdown",
      "source": [
        "## train model"
      ],
      "metadata": {
        "id": "CGHAxXQ26Xjq"
      }
    },
    {
      "cell_type": "code",
      "execution_count": null,
      "metadata": {
        "id": "sapazouxRT8l"
      },
      "outputs": [],
      "source": [
        "def TrainModel(model, train_loader, val_loader, epochs):\n",
        "\n",
        "  trainLoss = []\n",
        "  testLoss  = []\n",
        "\n",
        "  lossfun = nn.CrossEntropyLoss(ignore_index=-100)\n",
        "  optimizer = torch.optim.Adam(model.parameters())\n",
        "\n",
        "\n",
        "  for epoch in range(epochs):\n",
        "    model.train()\n",
        "    t0 = datetime.now()\n",
        "    trainBatchLoss = []\n",
        "\n",
        "    for batch in train_loader:\n",
        "      batch = {k:v.to(device) for k,v in batch.items()}\n",
        "\n",
        "      encoder_input = batch['input_ids']\n",
        "      encoder_mask = batch['attention_mask']\n",
        "      targets = batch['labels']\n",
        "\n",
        "      decoder_input = targets.clone().detach()\n",
        "      decoder_input = torch.roll(decoder_input, shifts=1, dims=1)\n",
        "      decoder_input[:,0] = 65001\n",
        "\n",
        "      #-100 is not valid for transformers, change to positive value\n",
        "      decoder_input = decoder_input.masked_fill(decoder_input == -100,tokenizer.pad_token_id)\n",
        "\n",
        "      decoder_mask = torch.ones_like(decoder_input)\n",
        "      decoder_mask = decoder_mask.masked_fill(decoder_input == tokenizer.pad_token_id,0)\n",
        "\n",
        "\n",
        "      model_output = model(encoder_input,decoder_input,encoder_mask,decoder_mask)\n",
        "      # print(model_output.shape)\n",
        "      loss = lossfun(model_output.transpose(2,1), targets)\n",
        "\n",
        "\n",
        "      optimizer.zero_grad()\n",
        "      loss.backward()\n",
        "      optimizer.step()\n",
        "\n",
        "      trainBatchLoss.append(loss.item())\n",
        "\n",
        "    trainLoss.append(np.mean(trainBatchLoss))\n",
        "\n",
        "\n",
        "    model.eval()\n",
        "    testBatchLoss = []\n",
        "\n",
        "    for batch in val_loader:\n",
        "      batch = {k:v.to(device) for k,v in batch.items()}\n",
        "\n",
        "      encoder_input = batch['input_ids']\n",
        "      encoder_mask = batch['attention_mask']\n",
        "      targets = batch['labels']\n",
        "\n",
        "      #decoder input is shifted targets\n",
        "      decoder_input = targets.clone().detach()\n",
        "      decoder_input = torch.roll(decoder_input, shifts=1, dims=1)\n",
        "      decoder_input[:,0] = 65001\n",
        "\n",
        "      #-100 is not valid for transformers, change to positive value\n",
        "      decoder_input = decoder_input.masked_fill(decoder_input == -100,tokenizer.pad_token_id)\n",
        "\n",
        "      decoder_mask = torch.ones_like(decoder_input)\n",
        "      decoder_mask = decoder_mask.masked_fill(decoder_input == tokenizer.pad_token_id,0)\n",
        "\n",
        "\n",
        "      model_output = model(encoder_input,decoder_input,encoder_mask,decoder_mask)\n",
        "      # print(model_output.shape)\n",
        "      loss = lossfun(model_output.transpose(2,1), targets)\n",
        "\n",
        "\n",
        "      testBatchLoss.append(loss.item())\n",
        "\n",
        "    # get loss and error rate from the test batch\n",
        "\n",
        "    testLoss.append(np.mean(testBatchLoss))\n",
        "\n",
        "\n",
        "    t = datetime.now() - t0\n",
        "\n",
        "    print(f'Epoch: {epoch}/{epochs},  \\\n",
        "    Train Loss: {trainLoss[epoch].item():.4f},  \\\n",
        "    Test Loss: {testLoss[epoch].item():.4f},  Duration:{t}')\n",
        "\n",
        "\n",
        "  return trainLoss,testLoss,model"
      ]
    },
    {
      "cell_type": "code",
      "execution_count": null,
      "metadata": {
        "colab": {
          "base_uri": "https://localhost:8080/"
        },
        "id": "ktpe1mUjD0Iu",
        "outputId": "da8fa24d-0516-4df3-c93d-cbf826b6e73e"
      },
      "outputs": [
        {
          "output_type": "stream",
          "name": "stdout",
          "text": [
            "Epoch: 0/10,      Train Loss: 3.5380,      Test Loss: 2.2899,  Duration:0:04:21.215901\n",
            "Epoch: 1/10,      Train Loss: 2.4368,      Test Loss: 1.7818,  Duration:0:04:28.355232\n",
            "Epoch: 2/10,      Train Loss: 2.0959,      Test Loss: 1.4393,  Duration:0:04:27.833172\n",
            "Epoch: 3/10,      Train Loss: 1.8580,      Test Loss: 1.2176,  Duration:0:04:26.441973\n",
            "Epoch: 4/10,      Train Loss: 1.6817,      Test Loss: 1.0477,  Duration:0:04:30.881243\n",
            "Epoch: 5/10,      Train Loss: 1.5428,      Test Loss: 0.9290,  Duration:0:04:25.801579\n",
            "Epoch: 6/10,      Train Loss: 1.4298,      Test Loss: 0.8391,  Duration:0:04:29.338763\n",
            "Epoch: 7/10,      Train Loss: 1.3359,      Test Loss: 0.7647,  Duration:0:04:26.364620\n",
            "Epoch: 8/10,      Train Loss: 1.2551,      Test Loss: 0.6979,  Duration:0:04:26.810366\n",
            "Epoch: 9/10,      Train Loss: 1.1867,      Test Loss: 0.6573,  Duration:0:04:27.008907\n"
          ]
        }
      ],
      "source": [
        "trainLoss,testLoss,model = TrainModel(model,train_loader,val_loader,epochs=10)"
      ]
    },
    {
      "cell_type": "code",
      "source": [
        "fig,ax = plt.subplots(figsize=(7,5))\n",
        "\n",
        "ax.plot(trainLoss,label='Train')\n",
        "ax.plot(testLoss,label='Test')\n",
        "ax.set_xticks(ticks=np.arange(0,10), labels=np.arange(0,10)+1)\n",
        "ax.set_xlabel('Epochs')\n",
        "ax.set_ylabel('Loss')\n",
        "ax.set_title(f'Train, Test Loss')\n",
        "ax.legend()\n",
        "\n",
        "plt.show()"
      ],
      "metadata": {
        "colab": {
          "base_uri": "https://localhost:8080/",
          "height": 471
        },
        "id": "hE2JzzxZnn1D",
        "outputId": "e0509289-e1d0-4e77-c9a3-7e1b37842d65"
      },
      "execution_count": null,
      "outputs": [
        {
          "output_type": "display_data",
          "data": {
            "text/plain": [
              "<Figure size 700x500 with 1 Axes>"
            ],
            "image/svg+xml": "<?xml version=\"1.0\" encoding=\"utf-8\" standalone=\"no\"?>\n<!DOCTYPE svg PUBLIC \"-//W3C//DTD SVG 1.1//EN\"\n  \"http://www.w3.org/Graphics/SVG/1.1/DTD/svg11.dtd\">\n<svg xmlns:xlink=\"http://www.w3.org/1999/xlink\" width=\"441.58125pt\" height=\"337.074375pt\" viewBox=\"0 0 441.58125 337.074375\" xmlns=\"http://www.w3.org/2000/svg\" version=\"1.1\">\n <metadata>\n  <rdf:RDF xmlns:dc=\"http://purl.org/dc/elements/1.1/\" xmlns:cc=\"http://creativecommons.org/ns#\" xmlns:rdf=\"http://www.w3.org/1999/02/22-rdf-syntax-ns#\">\n   <cc:Work>\n    <dc:type rdf:resource=\"http://purl.org/dc/dcmitype/StillImage\"/>\n    <dc:date>2023-10-27T17:45:41.147070</dc:date>\n    <dc:format>image/svg+xml</dc:format>\n    <dc:creator>\n     <cc:Agent>\n      <dc:title>Matplotlib v3.7.1, https://matplotlib.org/</dc:title>\n     </cc:Agent>\n    </dc:creator>\n   </cc:Work>\n  </rdf:RDF>\n </metadata>\n <defs>\n  <style type=\"text/css\">*{stroke-linejoin: round; stroke-linecap: butt}</style>\n </defs>\n <g id=\"figure_1\">\n  <g id=\"patch_1\">\n   <path d=\"M 0 337.074375 \nL 441.58125 337.074375 \nL 441.58125 0 \nL 0 0 \nz\n\" style=\"fill: #ffffff\"/>\n  </g>\n  <g id=\"axes_1\">\n   <g id=\"patch_2\">\n    <path d=\"M 43.78125 299.518125 \nL 434.38125 299.518125 \nL 434.38125 22.318125 \nL 43.78125 22.318125 \nz\n\" style=\"fill: #ffffff\"/>\n   </g>\n   <g id=\"matplotlib.axis_1\">\n    <g id=\"xtick_1\">\n     <g id=\"line2d_1\">\n      <defs>\n       <path id=\"m9d550f895d\" d=\"M 0 0 \nL 0 3.5 \n\" style=\"stroke: #000000; stroke-width: 0.8\"/>\n      </defs>\n      <g>\n       <use xlink:href=\"#m9d550f895d\" x=\"61.535795\" y=\"299.518125\" style=\"stroke: #000000; stroke-width: 0.8\"/>\n      </g>\n     </g>\n     <g id=\"text_1\">\n      <!-- 1 -->\n      <g transform=\"translate(58.354545 314.116563) scale(0.1 -0.1)\">\n       <defs>\n        <path id=\"DejaVuSans-31\" d=\"M 794 531 \nL 1825 531 \nL 1825 4091 \nL 703 3866 \nL 703 4441 \nL 1819 4666 \nL 2450 4666 \nL 2450 531 \nL 3481 531 \nL 3481 0 \nL 794 0 \nL 794 531 \nz\n\" transform=\"scale(0.015625)\"/>\n       </defs>\n       <use xlink:href=\"#DejaVuSans-31\"/>\n      </g>\n     </g>\n    </g>\n    <g id=\"xtick_2\">\n     <g id=\"line2d_2\">\n      <g>\n       <use xlink:href=\"#m9d550f895d\" x=\"100.990341\" y=\"299.518125\" style=\"stroke: #000000; stroke-width: 0.8\"/>\n      </g>\n     </g>\n     <g id=\"text_2\">\n      <!-- 2 -->\n      <g transform=\"translate(97.809091 314.116563) scale(0.1 -0.1)\">\n       <defs>\n        <path id=\"DejaVuSans-32\" d=\"M 1228 531 \nL 3431 531 \nL 3431 0 \nL 469 0 \nL 469 531 \nQ 828 903 1448 1529 \nQ 2069 2156 2228 2338 \nQ 2531 2678 2651 2914 \nQ 2772 3150 2772 3378 \nQ 2772 3750 2511 3984 \nQ 2250 4219 1831 4219 \nQ 1534 4219 1204 4116 \nQ 875 4013 500 3803 \nL 500 4441 \nQ 881 4594 1212 4672 \nQ 1544 4750 1819 4750 \nQ 2544 4750 2975 4387 \nQ 3406 4025 3406 3419 \nQ 3406 3131 3298 2873 \nQ 3191 2616 2906 2266 \nQ 2828 2175 2409 1742 \nQ 1991 1309 1228 531 \nz\n\" transform=\"scale(0.015625)\"/>\n       </defs>\n       <use xlink:href=\"#DejaVuSans-32\"/>\n      </g>\n     </g>\n    </g>\n    <g id=\"xtick_3\">\n     <g id=\"line2d_3\">\n      <g>\n       <use xlink:href=\"#m9d550f895d\" x=\"140.444886\" y=\"299.518125\" style=\"stroke: #000000; stroke-width: 0.8\"/>\n      </g>\n     </g>\n     <g id=\"text_3\">\n      <!-- 3 -->\n      <g transform=\"translate(137.263636 314.116563) scale(0.1 -0.1)\">\n       <defs>\n        <path id=\"DejaVuSans-33\" d=\"M 2597 2516 \nQ 3050 2419 3304 2112 \nQ 3559 1806 3559 1356 \nQ 3559 666 3084 287 \nQ 2609 -91 1734 -91 \nQ 1441 -91 1130 -33 \nQ 819 25 488 141 \nL 488 750 \nQ 750 597 1062 519 \nQ 1375 441 1716 441 \nQ 2309 441 2620 675 \nQ 2931 909 2931 1356 \nQ 2931 1769 2642 2001 \nQ 2353 2234 1838 2234 \nL 1294 2234 \nL 1294 2753 \nL 1863 2753 \nQ 2328 2753 2575 2939 \nQ 2822 3125 2822 3475 \nQ 2822 3834 2567 4026 \nQ 2313 4219 1838 4219 \nQ 1578 4219 1281 4162 \nQ 984 4106 628 3988 \nL 628 4550 \nQ 988 4650 1302 4700 \nQ 1616 4750 1894 4750 \nQ 2613 4750 3031 4423 \nQ 3450 4097 3450 3541 \nQ 3450 3153 3228 2886 \nQ 3006 2619 2597 2516 \nz\n\" transform=\"scale(0.015625)\"/>\n       </defs>\n       <use xlink:href=\"#DejaVuSans-33\"/>\n      </g>\n     </g>\n    </g>\n    <g id=\"xtick_4\">\n     <g id=\"line2d_4\">\n      <g>\n       <use xlink:href=\"#m9d550f895d\" x=\"179.899432\" y=\"299.518125\" style=\"stroke: #000000; stroke-width: 0.8\"/>\n      </g>\n     </g>\n     <g id=\"text_4\">\n      <!-- 4 -->\n      <g transform=\"translate(176.718182 314.116563) scale(0.1 -0.1)\">\n       <defs>\n        <path id=\"DejaVuSans-34\" d=\"M 2419 4116 \nL 825 1625 \nL 2419 1625 \nL 2419 4116 \nz\nM 2253 4666 \nL 3047 4666 \nL 3047 1625 \nL 3713 1625 \nL 3713 1100 \nL 3047 1100 \nL 3047 0 \nL 2419 0 \nL 2419 1100 \nL 313 1100 \nL 313 1709 \nL 2253 4666 \nz\n\" transform=\"scale(0.015625)\"/>\n       </defs>\n       <use xlink:href=\"#DejaVuSans-34\"/>\n      </g>\n     </g>\n    </g>\n    <g id=\"xtick_5\">\n     <g id=\"line2d_5\">\n      <g>\n       <use xlink:href=\"#m9d550f895d\" x=\"219.353977\" y=\"299.518125\" style=\"stroke: #000000; stroke-width: 0.8\"/>\n      </g>\n     </g>\n     <g id=\"text_5\">\n      <!-- 5 -->\n      <g transform=\"translate(216.172727 314.116563) scale(0.1 -0.1)\">\n       <defs>\n        <path id=\"DejaVuSans-35\" d=\"M 691 4666 \nL 3169 4666 \nL 3169 4134 \nL 1269 4134 \nL 1269 2991 \nQ 1406 3038 1543 3061 \nQ 1681 3084 1819 3084 \nQ 2600 3084 3056 2656 \nQ 3513 2228 3513 1497 \nQ 3513 744 3044 326 \nQ 2575 -91 1722 -91 \nQ 1428 -91 1123 -41 \nQ 819 9 494 109 \nL 494 744 \nQ 775 591 1075 516 \nQ 1375 441 1709 441 \nQ 2250 441 2565 725 \nQ 2881 1009 2881 1497 \nQ 2881 1984 2565 2268 \nQ 2250 2553 1709 2553 \nQ 1456 2553 1204 2497 \nQ 953 2441 691 2322 \nL 691 4666 \nz\n\" transform=\"scale(0.015625)\"/>\n       </defs>\n       <use xlink:href=\"#DejaVuSans-35\"/>\n      </g>\n     </g>\n    </g>\n    <g id=\"xtick_6\">\n     <g id=\"line2d_6\">\n      <g>\n       <use xlink:href=\"#m9d550f895d\" x=\"258.808523\" y=\"299.518125\" style=\"stroke: #000000; stroke-width: 0.8\"/>\n      </g>\n     </g>\n     <g id=\"text_6\">\n      <!-- 6 -->\n      <g transform=\"translate(255.627273 314.116563) scale(0.1 -0.1)\">\n       <defs>\n        <path id=\"DejaVuSans-36\" d=\"M 2113 2584 \nQ 1688 2584 1439 2293 \nQ 1191 2003 1191 1497 \nQ 1191 994 1439 701 \nQ 1688 409 2113 409 \nQ 2538 409 2786 701 \nQ 3034 994 3034 1497 \nQ 3034 2003 2786 2293 \nQ 2538 2584 2113 2584 \nz\nM 3366 4563 \nL 3366 3988 \nQ 3128 4100 2886 4159 \nQ 2644 4219 2406 4219 \nQ 1781 4219 1451 3797 \nQ 1122 3375 1075 2522 \nQ 1259 2794 1537 2939 \nQ 1816 3084 2150 3084 \nQ 2853 3084 3261 2657 \nQ 3669 2231 3669 1497 \nQ 3669 778 3244 343 \nQ 2819 -91 2113 -91 \nQ 1303 -91 875 529 \nQ 447 1150 447 2328 \nQ 447 3434 972 4092 \nQ 1497 4750 2381 4750 \nQ 2619 4750 2861 4703 \nQ 3103 4656 3366 4563 \nz\n\" transform=\"scale(0.015625)\"/>\n       </defs>\n       <use xlink:href=\"#DejaVuSans-36\"/>\n      </g>\n     </g>\n    </g>\n    <g id=\"xtick_7\">\n     <g id=\"line2d_7\">\n      <g>\n       <use xlink:href=\"#m9d550f895d\" x=\"298.263068\" y=\"299.518125\" style=\"stroke: #000000; stroke-width: 0.8\"/>\n      </g>\n     </g>\n     <g id=\"text_7\">\n      <!-- 7 -->\n      <g transform=\"translate(295.081818 314.116563) scale(0.1 -0.1)\">\n       <defs>\n        <path id=\"DejaVuSans-37\" d=\"M 525 4666 \nL 3525 4666 \nL 3525 4397 \nL 1831 0 \nL 1172 0 \nL 2766 4134 \nL 525 4134 \nL 525 4666 \nz\n\" transform=\"scale(0.015625)\"/>\n       </defs>\n       <use xlink:href=\"#DejaVuSans-37\"/>\n      </g>\n     </g>\n    </g>\n    <g id=\"xtick_8\">\n     <g id=\"line2d_8\">\n      <g>\n       <use xlink:href=\"#m9d550f895d\" x=\"337.717614\" y=\"299.518125\" style=\"stroke: #000000; stroke-width: 0.8\"/>\n      </g>\n     </g>\n     <g id=\"text_8\">\n      <!-- 8 -->\n      <g transform=\"translate(334.536364 314.116563) scale(0.1 -0.1)\">\n       <defs>\n        <path id=\"DejaVuSans-38\" d=\"M 2034 2216 \nQ 1584 2216 1326 1975 \nQ 1069 1734 1069 1313 \nQ 1069 891 1326 650 \nQ 1584 409 2034 409 \nQ 2484 409 2743 651 \nQ 3003 894 3003 1313 \nQ 3003 1734 2745 1975 \nQ 2488 2216 2034 2216 \nz\nM 1403 2484 \nQ 997 2584 770 2862 \nQ 544 3141 544 3541 \nQ 544 4100 942 4425 \nQ 1341 4750 2034 4750 \nQ 2731 4750 3128 4425 \nQ 3525 4100 3525 3541 \nQ 3525 3141 3298 2862 \nQ 3072 2584 2669 2484 \nQ 3125 2378 3379 2068 \nQ 3634 1759 3634 1313 \nQ 3634 634 3220 271 \nQ 2806 -91 2034 -91 \nQ 1263 -91 848 271 \nQ 434 634 434 1313 \nQ 434 1759 690 2068 \nQ 947 2378 1403 2484 \nz\nM 1172 3481 \nQ 1172 3119 1398 2916 \nQ 1625 2713 2034 2713 \nQ 2441 2713 2670 2916 \nQ 2900 3119 2900 3481 \nQ 2900 3844 2670 4047 \nQ 2441 4250 2034 4250 \nQ 1625 4250 1398 4047 \nQ 1172 3844 1172 3481 \nz\n\" transform=\"scale(0.015625)\"/>\n       </defs>\n       <use xlink:href=\"#DejaVuSans-38\"/>\n      </g>\n     </g>\n    </g>\n    <g id=\"xtick_9\">\n     <g id=\"line2d_9\">\n      <g>\n       <use xlink:href=\"#m9d550f895d\" x=\"377.172159\" y=\"299.518125\" style=\"stroke: #000000; stroke-width: 0.8\"/>\n      </g>\n     </g>\n     <g id=\"text_9\">\n      <!-- 9 -->\n      <g transform=\"translate(373.990909 314.116563) scale(0.1 -0.1)\">\n       <defs>\n        <path id=\"DejaVuSans-39\" d=\"M 703 97 \nL 703 672 \nQ 941 559 1184 500 \nQ 1428 441 1663 441 \nQ 2288 441 2617 861 \nQ 2947 1281 2994 2138 \nQ 2813 1869 2534 1725 \nQ 2256 1581 1919 1581 \nQ 1219 1581 811 2004 \nQ 403 2428 403 3163 \nQ 403 3881 828 4315 \nQ 1253 4750 1959 4750 \nQ 2769 4750 3195 4129 \nQ 3622 3509 3622 2328 \nQ 3622 1225 3098 567 \nQ 2575 -91 1691 -91 \nQ 1453 -91 1209 -44 \nQ 966 3 703 97 \nz\nM 1959 2075 \nQ 2384 2075 2632 2365 \nQ 2881 2656 2881 3163 \nQ 2881 3666 2632 3958 \nQ 2384 4250 1959 4250 \nQ 1534 4250 1286 3958 \nQ 1038 3666 1038 3163 \nQ 1038 2656 1286 2365 \nQ 1534 2075 1959 2075 \nz\n\" transform=\"scale(0.015625)\"/>\n       </defs>\n       <use xlink:href=\"#DejaVuSans-39\"/>\n      </g>\n     </g>\n    </g>\n    <g id=\"xtick_10\">\n     <g id=\"line2d_10\">\n      <g>\n       <use xlink:href=\"#m9d550f895d\" x=\"416.626705\" y=\"299.518125\" style=\"stroke: #000000; stroke-width: 0.8\"/>\n      </g>\n     </g>\n     <g id=\"text_10\">\n      <!-- 10 -->\n      <g transform=\"translate(410.264205 314.116563) scale(0.1 -0.1)\">\n       <defs>\n        <path id=\"DejaVuSans-30\" d=\"M 2034 4250 \nQ 1547 4250 1301 3770 \nQ 1056 3291 1056 2328 \nQ 1056 1369 1301 889 \nQ 1547 409 2034 409 \nQ 2525 409 2770 889 \nQ 3016 1369 3016 2328 \nQ 3016 3291 2770 3770 \nQ 2525 4250 2034 4250 \nz\nM 2034 4750 \nQ 2819 4750 3233 4129 \nQ 3647 3509 3647 2328 \nQ 3647 1150 3233 529 \nQ 2819 -91 2034 -91 \nQ 1250 -91 836 529 \nQ 422 1150 422 2328 \nQ 422 3509 836 4129 \nQ 1250 4750 2034 4750 \nz\n\" transform=\"scale(0.015625)\"/>\n       </defs>\n       <use xlink:href=\"#DejaVuSans-31\"/>\n       <use xlink:href=\"#DejaVuSans-30\" x=\"63.623047\"/>\n      </g>\n     </g>\n    </g>\n    <g id=\"text_11\">\n     <!-- Epochs -->\n     <g transform=\"translate(221.165625 327.794688) scale(0.1 -0.1)\">\n      <defs>\n       <path id=\"DejaVuSans-45\" d=\"M 628 4666 \nL 3578 4666 \nL 3578 4134 \nL 1259 4134 \nL 1259 2753 \nL 3481 2753 \nL 3481 2222 \nL 1259 2222 \nL 1259 531 \nL 3634 531 \nL 3634 0 \nL 628 0 \nL 628 4666 \nz\n\" transform=\"scale(0.015625)\"/>\n       <path id=\"DejaVuSans-70\" d=\"M 1159 525 \nL 1159 -1331 \nL 581 -1331 \nL 581 3500 \nL 1159 3500 \nL 1159 2969 \nQ 1341 3281 1617 3432 \nQ 1894 3584 2278 3584 \nQ 2916 3584 3314 3078 \nQ 3713 2572 3713 1747 \nQ 3713 922 3314 415 \nQ 2916 -91 2278 -91 \nQ 1894 -91 1617 61 \nQ 1341 213 1159 525 \nz\nM 3116 1747 \nQ 3116 2381 2855 2742 \nQ 2594 3103 2138 3103 \nQ 1681 3103 1420 2742 \nQ 1159 2381 1159 1747 \nQ 1159 1113 1420 752 \nQ 1681 391 2138 391 \nQ 2594 391 2855 752 \nQ 3116 1113 3116 1747 \nz\n\" transform=\"scale(0.015625)\"/>\n       <path id=\"DejaVuSans-6f\" d=\"M 1959 3097 \nQ 1497 3097 1228 2736 \nQ 959 2375 959 1747 \nQ 959 1119 1226 758 \nQ 1494 397 1959 397 \nQ 2419 397 2687 759 \nQ 2956 1122 2956 1747 \nQ 2956 2369 2687 2733 \nQ 2419 3097 1959 3097 \nz\nM 1959 3584 \nQ 2709 3584 3137 3096 \nQ 3566 2609 3566 1747 \nQ 3566 888 3137 398 \nQ 2709 -91 1959 -91 \nQ 1206 -91 779 398 \nQ 353 888 353 1747 \nQ 353 2609 779 3096 \nQ 1206 3584 1959 3584 \nz\n\" transform=\"scale(0.015625)\"/>\n       <path id=\"DejaVuSans-63\" d=\"M 3122 3366 \nL 3122 2828 \nQ 2878 2963 2633 3030 \nQ 2388 3097 2138 3097 \nQ 1578 3097 1268 2742 \nQ 959 2388 959 1747 \nQ 959 1106 1268 751 \nQ 1578 397 2138 397 \nQ 2388 397 2633 464 \nQ 2878 531 3122 666 \nL 3122 134 \nQ 2881 22 2623 -34 \nQ 2366 -91 2075 -91 \nQ 1284 -91 818 406 \nQ 353 903 353 1747 \nQ 353 2603 823 3093 \nQ 1294 3584 2113 3584 \nQ 2378 3584 2631 3529 \nQ 2884 3475 3122 3366 \nz\n\" transform=\"scale(0.015625)\"/>\n       <path id=\"DejaVuSans-68\" d=\"M 3513 2113 \nL 3513 0 \nL 2938 0 \nL 2938 2094 \nQ 2938 2591 2744 2837 \nQ 2550 3084 2163 3084 \nQ 1697 3084 1428 2787 \nQ 1159 2491 1159 1978 \nL 1159 0 \nL 581 0 \nL 581 4863 \nL 1159 4863 \nL 1159 2956 \nQ 1366 3272 1645 3428 \nQ 1925 3584 2291 3584 \nQ 2894 3584 3203 3211 \nQ 3513 2838 3513 2113 \nz\n\" transform=\"scale(0.015625)\"/>\n       <path id=\"DejaVuSans-73\" d=\"M 2834 3397 \nL 2834 2853 \nQ 2591 2978 2328 3040 \nQ 2066 3103 1784 3103 \nQ 1356 3103 1142 2972 \nQ 928 2841 928 2578 \nQ 928 2378 1081 2264 \nQ 1234 2150 1697 2047 \nL 1894 2003 \nQ 2506 1872 2764 1633 \nQ 3022 1394 3022 966 \nQ 3022 478 2636 193 \nQ 2250 -91 1575 -91 \nQ 1294 -91 989 -36 \nQ 684 19 347 128 \nL 347 722 \nQ 666 556 975 473 \nQ 1284 391 1588 391 \nQ 1994 391 2212 530 \nQ 2431 669 2431 922 \nQ 2431 1156 2273 1281 \nQ 2116 1406 1581 1522 \nL 1381 1569 \nQ 847 1681 609 1914 \nQ 372 2147 372 2553 \nQ 372 3047 722 3315 \nQ 1072 3584 1716 3584 \nQ 2034 3584 2315 3537 \nQ 2597 3491 2834 3397 \nz\n\" transform=\"scale(0.015625)\"/>\n      </defs>\n      <use xlink:href=\"#DejaVuSans-45\"/>\n      <use xlink:href=\"#DejaVuSans-70\" x=\"63.183594\"/>\n      <use xlink:href=\"#DejaVuSans-6f\" x=\"126.660156\"/>\n      <use xlink:href=\"#DejaVuSans-63\" x=\"187.841797\"/>\n      <use xlink:href=\"#DejaVuSans-68\" x=\"242.822266\"/>\n      <use xlink:href=\"#DejaVuSans-73\" x=\"306.201172\"/>\n     </g>\n    </g>\n   </g>\n   <g id=\"matplotlib.axis_2\">\n    <g id=\"ytick_1\">\n     <g id=\"line2d_11\">\n      <defs>\n       <path id=\"m2cd2b20fde\" d=\"M 0 0 \nL -3.5 0 \n\" style=\"stroke: #000000; stroke-width: 0.8\"/>\n      </defs>\n      <g>\n       <use xlink:href=\"#m2cd2b20fde\" x=\"43.78125\" y=\"256.941596\" style=\"stroke: #000000; stroke-width: 0.8\"/>\n      </g>\n     </g>\n     <g id=\"text_12\">\n      <!-- 1.0 -->\n      <g transform=\"translate(20.878125 260.740815) scale(0.1 -0.1)\">\n       <defs>\n        <path id=\"DejaVuSans-2e\" d=\"M 684 794 \nL 1344 794 \nL 1344 0 \nL 684 0 \nL 684 794 \nz\n\" transform=\"scale(0.015625)\"/>\n       </defs>\n       <use xlink:href=\"#DejaVuSans-31\"/>\n       <use xlink:href=\"#DejaVuSans-2e\" x=\"63.623047\"/>\n       <use xlink:href=\"#DejaVuSans-30\" x=\"95.410156\"/>\n      </g>\n     </g>\n    </g>\n    <g id=\"ytick_2\">\n     <g id=\"line2d_12\">\n      <g>\n       <use xlink:href=\"#m2cd2b20fde\" x=\"43.78125\" y=\"213.201568\" style=\"stroke: #000000; stroke-width: 0.8\"/>\n      </g>\n     </g>\n     <g id=\"text_13\">\n      <!-- 1.5 -->\n      <g transform=\"translate(20.878125 217.000787) scale(0.1 -0.1)\">\n       <use xlink:href=\"#DejaVuSans-31\"/>\n       <use xlink:href=\"#DejaVuSans-2e\" x=\"63.623047\"/>\n       <use xlink:href=\"#DejaVuSans-35\" x=\"95.410156\"/>\n      </g>\n     </g>\n    </g>\n    <g id=\"ytick_3\">\n     <g id=\"line2d_13\">\n      <g>\n       <use xlink:href=\"#m2cd2b20fde\" x=\"43.78125\" y=\"169.461541\" style=\"stroke: #000000; stroke-width: 0.8\"/>\n      </g>\n     </g>\n     <g id=\"text_14\">\n      <!-- 2.0 -->\n      <g transform=\"translate(20.878125 173.260759) scale(0.1 -0.1)\">\n       <use xlink:href=\"#DejaVuSans-32\"/>\n       <use xlink:href=\"#DejaVuSans-2e\" x=\"63.623047\"/>\n       <use xlink:href=\"#DejaVuSans-30\" x=\"95.410156\"/>\n      </g>\n     </g>\n    </g>\n    <g id=\"ytick_4\">\n     <g id=\"line2d_14\">\n      <g>\n       <use xlink:href=\"#m2cd2b20fde\" x=\"43.78125\" y=\"125.721513\" style=\"stroke: #000000; stroke-width: 0.8\"/>\n      </g>\n     </g>\n     <g id=\"text_15\">\n      <!-- 2.5 -->\n      <g transform=\"translate(20.878125 129.520731) scale(0.1 -0.1)\">\n       <use xlink:href=\"#DejaVuSans-32\"/>\n       <use xlink:href=\"#DejaVuSans-2e\" x=\"63.623047\"/>\n       <use xlink:href=\"#DejaVuSans-35\" x=\"95.410156\"/>\n      </g>\n     </g>\n    </g>\n    <g id=\"ytick_5\">\n     <g id=\"line2d_15\">\n      <g>\n       <use xlink:href=\"#m2cd2b20fde\" x=\"43.78125\" y=\"81.981485\" style=\"stroke: #000000; stroke-width: 0.8\"/>\n      </g>\n     </g>\n     <g id=\"text_16\">\n      <!-- 3.0 -->\n      <g transform=\"translate(20.878125 85.780704) scale(0.1 -0.1)\">\n       <use xlink:href=\"#DejaVuSans-33\"/>\n       <use xlink:href=\"#DejaVuSans-2e\" x=\"63.623047\"/>\n       <use xlink:href=\"#DejaVuSans-30\" x=\"95.410156\"/>\n      </g>\n     </g>\n    </g>\n    <g id=\"ytick_6\">\n     <g id=\"line2d_16\">\n      <g>\n       <use xlink:href=\"#m2cd2b20fde\" x=\"43.78125\" y=\"38.241457\" style=\"stroke: #000000; stroke-width: 0.8\"/>\n      </g>\n     </g>\n     <g id=\"text_17\">\n      <!-- 3.5 -->\n      <g transform=\"translate(20.878125 42.040676) scale(0.1 -0.1)\">\n       <use xlink:href=\"#DejaVuSans-33\"/>\n       <use xlink:href=\"#DejaVuSans-2e\" x=\"63.623047\"/>\n       <use xlink:href=\"#DejaVuSans-35\" x=\"95.410156\"/>\n      </g>\n     </g>\n    </g>\n    <g id=\"text_18\">\n     <!-- Loss -->\n     <g transform=\"translate(14.798438 171.885313) rotate(-90) scale(0.1 -0.1)\">\n      <defs>\n       <path id=\"DejaVuSans-4c\" d=\"M 628 4666 \nL 1259 4666 \nL 1259 531 \nL 3531 531 \nL 3531 0 \nL 628 0 \nL 628 4666 \nz\n\" transform=\"scale(0.015625)\"/>\n      </defs>\n      <use xlink:href=\"#DejaVuSans-4c\"/>\n      <use xlink:href=\"#DejaVuSans-6f\" x=\"53.962891\"/>\n      <use xlink:href=\"#DejaVuSans-73\" x=\"115.144531\"/>\n      <use xlink:href=\"#DejaVuSans-73\" x=\"167.244141\"/>\n     </g>\n    </g>\n   </g>\n   <g id=\"line2d_17\">\n    <path d=\"M 61.535795 34.918125 \nL 100.990341 131.245924 \nL 140.444886 161.073522 \nL 179.899432 181.882384 \nL 219.353977 197.308586 \nL 258.808523 209.457438 \nL 298.263068 219.343075 \nL 337.717614 227.560669 \nL 377.172159 234.622142 \nL 416.626705 240.605901 \n\" clip-path=\"url(#p82405f53f8)\" style=\"fill: none; stroke: #1f77b4; stroke-width: 1.5; stroke-linecap: square\"/>\n   </g>\n   <g id=\"line2d_18\">\n    <path d=\"M 61.535795 144.096912 \nL 100.990341 188.545929 \nL 140.444886 218.507311 \nL 179.899432 237.909577 \nL 219.353977 252.768638 \nL 258.808523 263.152672 \nL 298.263068 271.014661 \nL 337.717614 277.522328 \nL 377.172159 283.373556 \nL 416.626705 286.918125 \n\" clip-path=\"url(#p82405f53f8)\" style=\"fill: none; stroke: #ff7f0e; stroke-width: 1.5; stroke-linecap: square\"/>\n   </g>\n   <g id=\"patch_3\">\n    <path d=\"M 43.78125 299.518125 \nL 43.78125 22.318125 \n\" style=\"fill: none; stroke: #000000; stroke-width: 0.8; stroke-linejoin: miter; stroke-linecap: square\"/>\n   </g>\n   <g id=\"patch_4\">\n    <path d=\"M 434.38125 299.518125 \nL 434.38125 22.318125 \n\" style=\"fill: none; stroke: #000000; stroke-width: 0.8; stroke-linejoin: miter; stroke-linecap: square\"/>\n   </g>\n   <g id=\"patch_5\">\n    <path d=\"M 43.78125 299.518125 \nL 434.38125 299.518125 \n\" style=\"fill: none; stroke: #000000; stroke-width: 0.8; stroke-linejoin: miter; stroke-linecap: square\"/>\n   </g>\n   <g id=\"patch_6\">\n    <path d=\"M 43.78125 22.318125 \nL 434.38125 22.318125 \n\" style=\"fill: none; stroke: #000000; stroke-width: 0.8; stroke-linejoin: miter; stroke-linecap: square\"/>\n   </g>\n   <g id=\"text_19\">\n    <!-- Train, Test Loss -->\n    <g transform=\"translate(193.993125 16.318125) scale(0.12 -0.12)\">\n     <defs>\n      <path id=\"DejaVuSans-54\" d=\"M -19 4666 \nL 3928 4666 \nL 3928 4134 \nL 2272 4134 \nL 2272 0 \nL 1638 0 \nL 1638 4134 \nL -19 4134 \nL -19 4666 \nz\n\" transform=\"scale(0.015625)\"/>\n      <path id=\"DejaVuSans-72\" d=\"M 2631 2963 \nQ 2534 3019 2420 3045 \nQ 2306 3072 2169 3072 \nQ 1681 3072 1420 2755 \nQ 1159 2438 1159 1844 \nL 1159 0 \nL 581 0 \nL 581 3500 \nL 1159 3500 \nL 1159 2956 \nQ 1341 3275 1631 3429 \nQ 1922 3584 2338 3584 \nQ 2397 3584 2469 3576 \nQ 2541 3569 2628 3553 \nL 2631 2963 \nz\n\" transform=\"scale(0.015625)\"/>\n      <path id=\"DejaVuSans-61\" d=\"M 2194 1759 \nQ 1497 1759 1228 1600 \nQ 959 1441 959 1056 \nQ 959 750 1161 570 \nQ 1363 391 1709 391 \nQ 2188 391 2477 730 \nQ 2766 1069 2766 1631 \nL 2766 1759 \nL 2194 1759 \nz\nM 3341 1997 \nL 3341 0 \nL 2766 0 \nL 2766 531 \nQ 2569 213 2275 61 \nQ 1981 -91 1556 -91 \nQ 1019 -91 701 211 \nQ 384 513 384 1019 \nQ 384 1609 779 1909 \nQ 1175 2209 1959 2209 \nL 2766 2209 \nL 2766 2266 \nQ 2766 2663 2505 2880 \nQ 2244 3097 1772 3097 \nQ 1472 3097 1187 3025 \nQ 903 2953 641 2809 \nL 641 3341 \nQ 956 3463 1253 3523 \nQ 1550 3584 1831 3584 \nQ 2591 3584 2966 3190 \nQ 3341 2797 3341 1997 \nz\n\" transform=\"scale(0.015625)\"/>\n      <path id=\"DejaVuSans-69\" d=\"M 603 3500 \nL 1178 3500 \nL 1178 0 \nL 603 0 \nL 603 3500 \nz\nM 603 4863 \nL 1178 4863 \nL 1178 4134 \nL 603 4134 \nL 603 4863 \nz\n\" transform=\"scale(0.015625)\"/>\n      <path id=\"DejaVuSans-6e\" d=\"M 3513 2113 \nL 3513 0 \nL 2938 0 \nL 2938 2094 \nQ 2938 2591 2744 2837 \nQ 2550 3084 2163 3084 \nQ 1697 3084 1428 2787 \nQ 1159 2491 1159 1978 \nL 1159 0 \nL 581 0 \nL 581 3500 \nL 1159 3500 \nL 1159 2956 \nQ 1366 3272 1645 3428 \nQ 1925 3584 2291 3584 \nQ 2894 3584 3203 3211 \nQ 3513 2838 3513 2113 \nz\n\" transform=\"scale(0.015625)\"/>\n      <path id=\"DejaVuSans-2c\" d=\"M 750 794 \nL 1409 794 \nL 1409 256 \nL 897 -744 \nL 494 -744 \nL 750 256 \nL 750 794 \nz\n\" transform=\"scale(0.015625)\"/>\n      <path id=\"DejaVuSans-20\" transform=\"scale(0.015625)\"/>\n      <path id=\"DejaVuSans-65\" d=\"M 3597 1894 \nL 3597 1613 \nL 953 1613 \nQ 991 1019 1311 708 \nQ 1631 397 2203 397 \nQ 2534 397 2845 478 \nQ 3156 559 3463 722 \nL 3463 178 \nQ 3153 47 2828 -22 \nQ 2503 -91 2169 -91 \nQ 1331 -91 842 396 \nQ 353 884 353 1716 \nQ 353 2575 817 3079 \nQ 1281 3584 2069 3584 \nQ 2775 3584 3186 3129 \nQ 3597 2675 3597 1894 \nz\nM 3022 2063 \nQ 3016 2534 2758 2815 \nQ 2500 3097 2075 3097 \nQ 1594 3097 1305 2825 \nQ 1016 2553 972 2059 \nL 3022 2063 \nz\n\" transform=\"scale(0.015625)\"/>\n      <path id=\"DejaVuSans-74\" d=\"M 1172 4494 \nL 1172 3500 \nL 2356 3500 \nL 2356 3053 \nL 1172 3053 \nL 1172 1153 \nQ 1172 725 1289 603 \nQ 1406 481 1766 481 \nL 2356 481 \nL 2356 0 \nL 1766 0 \nQ 1100 0 847 248 \nQ 594 497 594 1153 \nL 594 3053 \nL 172 3053 \nL 172 3500 \nL 594 3500 \nL 594 4494 \nL 1172 4494 \nz\n\" transform=\"scale(0.015625)\"/>\n     </defs>\n     <use xlink:href=\"#DejaVuSans-54\"/>\n     <use xlink:href=\"#DejaVuSans-72\" x=\"46.333984\"/>\n     <use xlink:href=\"#DejaVuSans-61\" x=\"87.447266\"/>\n     <use xlink:href=\"#DejaVuSans-69\" x=\"148.726562\"/>\n     <use xlink:href=\"#DejaVuSans-6e\" x=\"176.509766\"/>\n     <use xlink:href=\"#DejaVuSans-2c\" x=\"239.888672\"/>\n     <use xlink:href=\"#DejaVuSans-20\" x=\"271.675781\"/>\n     <use xlink:href=\"#DejaVuSans-54\" x=\"303.462891\"/>\n     <use xlink:href=\"#DejaVuSans-65\" x=\"347.546875\"/>\n     <use xlink:href=\"#DejaVuSans-73\" x=\"409.070312\"/>\n     <use xlink:href=\"#DejaVuSans-74\" x=\"461.169922\"/>\n     <use xlink:href=\"#DejaVuSans-20\" x=\"500.378906\"/>\n     <use xlink:href=\"#DejaVuSans-4c\" x=\"532.166016\"/>\n     <use xlink:href=\"#DejaVuSans-6f\" x=\"586.128906\"/>\n     <use xlink:href=\"#DejaVuSans-73\" x=\"647.310547\"/>\n     <use xlink:href=\"#DejaVuSans-73\" x=\"699.410156\"/>\n    </g>\n   </g>\n   <g id=\"legend_1\">\n    <g id=\"patch_7\">\n     <path d=\"M 371.39375 59.674375 \nL 427.38125 59.674375 \nQ 429.38125 59.674375 429.38125 57.674375 \nL 429.38125 29.318125 \nQ 429.38125 27.318125 427.38125 27.318125 \nL 371.39375 27.318125 \nQ 369.39375 27.318125 369.39375 29.318125 \nL 369.39375 57.674375 \nQ 369.39375 59.674375 371.39375 59.674375 \nz\n\" style=\"fill: #ffffff; opacity: 0.8; stroke: #cccccc; stroke-linejoin: miter\"/>\n    </g>\n    <g id=\"line2d_19\">\n     <path d=\"M 373.39375 35.416562 \nL 383.39375 35.416562 \nL 393.39375 35.416562 \n\" style=\"fill: none; stroke: #1f77b4; stroke-width: 1.5; stroke-linecap: square\"/>\n    </g>\n    <g id=\"text_20\">\n     <!-- Train -->\n     <g transform=\"translate(401.39375 38.916562) scale(0.1 -0.1)\">\n      <use xlink:href=\"#DejaVuSans-54\"/>\n      <use xlink:href=\"#DejaVuSans-72\" x=\"46.333984\"/>\n      <use xlink:href=\"#DejaVuSans-61\" x=\"87.447266\"/>\n      <use xlink:href=\"#DejaVuSans-69\" x=\"148.726562\"/>\n      <use xlink:href=\"#DejaVuSans-6e\" x=\"176.509766\"/>\n     </g>\n    </g>\n    <g id=\"line2d_20\">\n     <path d=\"M 373.39375 50.094688 \nL 383.39375 50.094688 \nL 393.39375 50.094688 \n\" style=\"fill: none; stroke: #ff7f0e; stroke-width: 1.5; stroke-linecap: square\"/>\n    </g>\n    <g id=\"text_21\">\n     <!-- Test -->\n     <g transform=\"translate(401.39375 53.594688) scale(0.1 -0.1)\">\n      <use xlink:href=\"#DejaVuSans-54\"/>\n      <use xlink:href=\"#DejaVuSans-65\" x=\"44.083984\"/>\n      <use xlink:href=\"#DejaVuSans-73\" x=\"105.607422\"/>\n      <use xlink:href=\"#DejaVuSans-74\" x=\"157.707031\"/>\n     </g>\n    </g>\n   </g>\n  </g>\n </g>\n <defs>\n  <clipPath id=\"p82405f53f8\">\n   <rect x=\"43.78125\" y=\"22.318125\" width=\"390.6\" height=\"277.2\"/>\n  </clipPath>\n </defs>\n</svg>\n"
          },
          "metadata": {}
        }
      ]
    },
    {
      "cell_type": "markdown",
      "source": [
        "## save and load model"
      ],
      "metadata": {
        "id": "VIKwk3LX-v6u"
      }
    },
    {
      "cell_type": "code",
      "source": [
        "PATH = 'TranslationModel'\n",
        "torch.save(model, PATH)"
      ],
      "metadata": {
        "id": "xMig6UMU-vmy"
      },
      "execution_count": null,
      "outputs": []
    },
    {
      "cell_type": "code",
      "source": [
        "# model = transformer(encoder,decoder)\n",
        "PATH = 'TranslationModel'\n",
        "model = torch.load(PATH)"
      ],
      "metadata": {
        "id": "r2YMuqdu_B7p"
      },
      "execution_count": null,
      "outputs": []
    },
    {
      "cell_type": "markdown",
      "source": [
        "## test the model"
      ],
      "metadata": {
        "id": "60YW8AbBadOX"
      }
    },
    {
      "cell_type": "code",
      "source": [
        "checkpoint = 'Helsinki-NLP/opus-mt-en-es'\n",
        "tokenizer = AutoTokenizer.from_pretrained(checkpoint)"
      ],
      "metadata": {
        "id": "z7tMRX8GXiUg"
      },
      "execution_count": null,
      "outputs": []
    },
    {
      "cell_type": "code",
      "source": [
        "device = 'cuda:0' if torch.cuda.is_available() else 'cpu'"
      ],
      "metadata": {
        "id": "NZak8OfrYSyC"
      },
      "execution_count": null,
      "outputs": []
    },
    {
      "cell_type": "code",
      "source": [
        "def translate(text):\n",
        "\n",
        "  '''after training the transformer, we can use this function\n",
        "     to translate the given text'''\n",
        "\n",
        "  encoder_input = tokenizer(text, return_tensors = 'pt').to(device)\n",
        "\n",
        "  #using decoder in generative mode,decoder input is just a sentence start tag\n",
        "  #ignore final 0  </s>\n",
        "  decoder_input = tokenizer(text_target= '<s>' ,return_tensors = 'pt').to(device)\n",
        "\n",
        "  decoder_input_ids = decoder_input['input_ids'][:,:-1]\n",
        "  decoder_attention_mask = decoder_input['attention_mask'][:,:-1]\n",
        "\n",
        "  # pred_id = 1\n",
        "\n",
        "  for i in range(20): #terminate when reach to the end of sentence (id=0)\n",
        "\n",
        "    transformer_output = model(encoder_input['input_ids'],\n",
        "                        decoder_input_ids,\n",
        "                        encoder_input['attention_mask'],\n",
        "                        decoder_attention_mask)\n",
        "\n",
        "    print(transformer_output)\n",
        "    # print(transformer_output[:,:,-1].shape)\n",
        "    pred_id = torch.argmax(transformer_output)\n",
        "\n",
        "    decoder_input_ids = torch.hstack((decoder_input_ids, pred_id.view(1,1)))\n",
        "    decoder_attention_mask = torch.ones_like(decoder_input_ids)\n",
        "\n",
        "    if pred_id == 0:\n",
        "      break\n",
        "\n",
        "  translation = tokenizer.decode(decoder_input_ids)\n",
        "\n",
        "  return translation\n"
      ],
      "metadata": {
        "id": "hgBnOTGkxjyN"
      },
      "execution_count": null,
      "outputs": []
    },
    {
      "cell_type": "code",
      "source": [
        "translate('how are you doing?!')"
      ],
      "metadata": {
        "id": "QGeYHdoEfYTJ"
      },
      "execution_count": null,
      "outputs": []
    },
    {
      "cell_type": "code",
      "source": [
        "translate('I love you!')"
      ],
      "metadata": {
        "id": "qkmk4QyfBrR5"
      },
      "execution_count": null,
      "outputs": []
    },
    {
      "cell_type": "code",
      "source": [
        "translate('Edison was raised in the American Midwest. Early in his career he worked as a telegraph operator, which inspired some of his earliest inventions. In 1876, he established his first laboratory facility in Menlo Park, New Jersey, where many of his early inventions were developed.')"
      ],
      "metadata": {
        "id": "YwaZuKr4Btur"
      },
      "execution_count": null,
      "outputs": []
    }
  ],
  "metadata": {
    "colab": {
      "provenance": [],
      "gpuType": "T4",
      "include_colab_link": true
    },
    "kernelspec": {
      "display_name": "Python 3",
      "name": "python3"
    },
    "language_info": {
      "name": "python"
    },
    "accelerator": "GPU"
  },
  "nbformat": 4,
  "nbformat_minor": 0
}